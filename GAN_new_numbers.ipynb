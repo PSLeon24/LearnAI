{
  "nbformat": 4,
  "nbformat_minor": 0,
  "metadata": {
    "colab": {
      "provenance": [],
      "authorship_tag": "ABX9TyOqudGxGTDfIlclqm1Qezr8",
      "include_colab_link": true
    },
    "kernelspec": {
      "name": "python3",
      "display_name": "Python 3"
    },
    "language_info": {
      "name": "python"
    }
  },
  "cells": [
    {
      "cell_type": "markdown",
      "metadata": {
        "id": "view-in-github",
        "colab_type": "text"
      },
      "source": [
        "<a href=\"https://colab.research.google.com/github/PSLeon24/LearnAI/blob/main/GAN_new_numbers.ipynb\" target=\"_parent\"><img src=\"https://colab.research.google.com/assets/colab-badge.svg\" alt=\"Open In Colab\"/></a>"
      ]
    },
    {
      "cell_type": "code",
      "execution_count": 5,
      "metadata": {
        "id": "Y2z17RE4LE1b"
      },
      "outputs": [],
      "source": [
        "from tensorflow.keras.layers import Input, Dense, Lambda\n",
        "from tensorflow.keras.models import Model\n",
        "from tensorflow.keras import backend as K\n",
        "from tensorflow.keras import metrics\n",
        "from tensorflow.keras.datasets import mnist\n",
        "import numpy as np"
      ]
    },
    {
      "cell_type": "code",
      "source": [
        "batch_size = 100\n",
        "original_dim = 784 # 28*28: MNIST 이미지의 height * width\n",
        "latent_dim = 2\n",
        "intermediate_dim = 256\n",
        "epochs = 50\n",
        "epsilon_std = 1.0"
      ],
      "metadata": {
        "id": "7vsu8PLkLZET"
      },
      "execution_count": 6,
      "outputs": []
    },
    {
      "cell_type": "code",
      "source": [
        "def sampling(args: tuple):\n",
        "  z_mean, z_log_var = args\n",
        "  epsilon = K.random_normal(shape=(K.shape(z_mean)[0], latent_dim), mean=0., stddev=epsilon_std)\n",
        "  return z_mean + K.exp(z_log_var / 2) * epsilon\n",
        "\n",
        "x = Input(shape=(original_dim,), name='input') # input of encoder\n",
        "h = Dense(intermediate_dim, activation='relu', name='encoding')(x) # hidden layer\n",
        "z_mean = Dense(latent_dim, name='mean')(h)\n",
        "z_log_var = Dense(latent_dim, name='log-variance')(h)\n",
        "z = Lambda(sampling, output_shape=(latent_dim,))([z_mean, z_log_var])\n",
        "encoder = Model(x, [z_mean, z_log_var, z], name='encoder')"
      ],
      "metadata": {
        "id": "xV5momzYLvtt"
      },
      "execution_count": 7,
      "outputs": []
    },
    {
      "cell_type": "code",
      "source": [
        "input_decoder = Input(shape=(latent_dim,), name='decoder_input')\n",
        "decoder_h = Dense(intermediate_dim, activation='relu', name='decoder_h')(input_decoder) # hidden layer\n",
        "x_decoded = Dense(original_dim, activation='sigmoid', name='flat_decoded')(decoder_h)\n",
        "decoder = Model(input_decoder, x_decoded, name='decoder')"
      ],
      "metadata": {
        "id": "zUmsoHtHMcep"
      },
      "execution_count": 8,
      "outputs": []
    },
    {
      "cell_type": "code",
      "source": [
        "output_combined = decoder(encoder(x)[2])\n",
        "vae = Model(x, output_combined)\n",
        "vae.summary()"
      ],
      "metadata": {
        "colab": {
          "base_uri": "https://localhost:8080/"
        },
        "id": "liT1ThiUNgxW",
        "outputId": "58752808-4e7f-4406-ffa9-0cdeb07bd8ee"
      },
      "execution_count": 9,
      "outputs": [
        {
          "output_type": "stream",
          "name": "stdout",
          "text": [
            "Model: \"model\"\n",
            "_________________________________________________________________\n",
            " Layer (type)                Output Shape              Param #   \n",
            "=================================================================\n",
            " input (InputLayer)          [(None, 784)]             0         \n",
            "                                                                 \n",
            " encoder (Functional)        [(None, 2),               201988    \n",
            "                              (None, 2),                         \n",
            "                              (None, 2)]                         \n",
            "                                                                 \n",
            " decoder (Functional)        (None, 784)               202256    \n",
            "                                                                 \n",
            "=================================================================\n",
            "Total params: 404,244\n",
            "Trainable params: 404,244\n",
            "Non-trainable params: 0\n",
            "_________________________________________________________________\n"
          ]
        }
      ]
    },
    {
      "cell_type": "code",
      "source": [
        "kl_loss = -0.5 * K.sum(1 + z_log_var - K.exp(z_log_var) - K.square(z_mean), axis=-1)\n",
        "vae.add_loss(K.mean(kl_loss) / 784.)\n",
        "vae.compile(optimizer='rmsprop', loss='binary_crossentropy')"
      ],
      "metadata": {
        "id": "A6cUd9egNobX"
      },
      "execution_count": 10,
      "outputs": []
    },
    {
      "cell_type": "code",
      "source": [
        "(x_train, y_train), (x_test, y_test) = mnist.load_data()\n",
        "\n",
        "x_train = x_train.astype('float32') / 255.\n",
        "x_test = x_test.astype('float32') / 255.\n",
        "x_train = x_train.reshape((len(x_train), np.prod(x_train.shape[1:])))\n",
        "x_test = x_test.reshape((len(x_test), np.prod(x_test.shape[1:])))"
      ],
      "metadata": {
        "colab": {
          "base_uri": "https://localhost:8080/"
        },
        "id": "IOxpFjEUN7dh",
        "outputId": "6ab563c6-bc6a-475f-bd48-cc93ca67211d"
      },
      "execution_count": 11,
      "outputs": [
        {
          "output_type": "stream",
          "name": "stdout",
          "text": [
            "Downloading data from https://storage.googleapis.com/tensorflow/tf-keras-datasets/mnist.npz\n",
            "11490434/11490434 [==============================] - 0s 0us/step\n"
          ]
        }
      ]
    },
    {
      "cell_type": "code",
      "source": [
        "vae.fit(x_train, x_train,\n",
        "        shuffle=True,\n",
        "        epochs=epochs,\n",
        "        batch_size=batch_size)"
      ],
      "metadata": {
        "colab": {
          "base_uri": "https://localhost:8080/"
        },
        "id": "_ebmAGsGOUvG",
        "outputId": "ceda67dc-c72f-4085-a6f3-2917db644b94"
      },
      "execution_count": 12,
      "outputs": [
        {
          "output_type": "stream",
          "name": "stdout",
          "text": [
            "Epoch 1/50\n",
            "600/600 [==============================] - 12s 18ms/step - loss: 0.2883\n",
            "Epoch 2/50\n",
            "600/600 [==============================] - 10s 17ms/step - loss: 0.2424\n",
            "Epoch 3/50\n",
            "600/600 [==============================] - 10s 16ms/step - loss: 0.2346\n",
            "Epoch 4/50\n",
            "600/600 [==============================] - 11s 18ms/step - loss: 0.2307\n",
            "Epoch 5/50\n",
            "600/600 [==============================] - 10s 17ms/step - loss: 0.2280\n",
            "Epoch 6/50\n",
            "600/600 [==============================] - 10s 17ms/step - loss: 0.2261\n",
            "Epoch 7/50\n",
            "600/600 [==============================] - 9s 16ms/step - loss: 0.2244\n",
            "Epoch 8/50\n",
            "600/600 [==============================] - 10s 16ms/step - loss: 0.2230\n",
            "Epoch 9/50\n",
            "600/600 [==============================] - 11s 18ms/step - loss: 0.2217\n",
            "Epoch 10/50\n",
            "600/600 [==============================] - 10s 17ms/step - loss: 0.2205\n",
            "Epoch 11/50\n",
            "600/600 [==============================] - 9s 15ms/step - loss: 0.2194\n",
            "Epoch 12/50\n",
            "600/600 [==============================] - 10s 17ms/step - loss: 0.2183\n",
            "Epoch 13/50\n",
            "600/600 [==============================] - 10s 17ms/step - loss: 0.2173\n",
            "Epoch 14/50\n",
            "600/600 [==============================] - 11s 18ms/step - loss: 0.2163\n",
            "Epoch 15/50\n",
            "600/600 [==============================] - 9s 15ms/step - loss: 0.2154\n",
            "Epoch 16/50\n",
            "600/600 [==============================] - 10s 17ms/step - loss: 0.2146\n",
            "Epoch 17/50\n",
            "600/600 [==============================] - 12s 20ms/step - loss: 0.2138\n",
            "Epoch 18/50\n",
            "600/600 [==============================] - 10s 16ms/step - loss: 0.2132\n",
            "Epoch 19/50\n",
            "600/600 [==============================] - 9s 16ms/step - loss: 0.2126\n",
            "Epoch 20/50\n",
            "600/600 [==============================] - 11s 18ms/step - loss: 0.2120\n",
            "Epoch 21/50\n",
            "600/600 [==============================] - 11s 18ms/step - loss: 0.2115\n",
            "Epoch 22/50\n",
            "600/600 [==============================] - 10s 17ms/step - loss: 0.2110\n",
            "Epoch 23/50\n",
            "600/600 [==============================] - 9s 15ms/step - loss: 0.2105\n",
            "Epoch 24/50\n",
            "600/600 [==============================] - 10s 17ms/step - loss: 0.2100\n",
            "Epoch 25/50\n",
            "600/600 [==============================] - 10s 17ms/step - loss: 0.2095\n",
            "Epoch 26/50\n",
            "600/600 [==============================] - 9s 15ms/step - loss: 0.2090\n",
            "Epoch 27/50\n",
            "600/600 [==============================] - 10s 17ms/step - loss: 0.2085\n",
            "Epoch 28/50\n",
            "600/600 [==============================] - 11s 18ms/step - loss: 0.2081\n",
            "Epoch 29/50\n",
            "600/600 [==============================] - 10s 17ms/step - loss: 0.2076\n",
            "Epoch 30/50\n",
            "600/600 [==============================] - 11s 18ms/step - loss: 0.2071\n",
            "Epoch 31/50\n",
            "600/600 [==============================] - 9s 16ms/step - loss: 0.2066\n",
            "Epoch 32/50\n",
            "600/600 [==============================] - 11s 18ms/step - loss: 0.2062\n",
            "Epoch 33/50\n",
            "600/600 [==============================] - 10s 17ms/step - loss: 0.2057\n",
            "Epoch 34/50\n",
            "600/600 [==============================] - 10s 16ms/step - loss: 0.2053\n",
            "Epoch 35/50\n",
            "600/600 [==============================] - 9s 15ms/step - loss: 0.2048\n",
            "Epoch 36/50\n",
            "600/600 [==============================] - 11s 18ms/step - loss: 0.2045\n",
            "Epoch 37/50\n",
            "600/600 [==============================] - 11s 18ms/step - loss: 0.2041\n",
            "Epoch 38/50\n",
            "600/600 [==============================] - 10s 17ms/step - loss: 0.2037\n",
            "Epoch 39/50\n",
            "600/600 [==============================] - 10s 16ms/step - loss: 0.2033\n",
            "Epoch 40/50\n",
            "600/600 [==============================] - 10s 16ms/step - loss: 0.2029\n",
            "Epoch 41/50\n",
            "600/600 [==============================] - 10s 17ms/step - loss: 0.2026\n",
            "Epoch 42/50\n",
            "600/600 [==============================] - 12s 19ms/step - loss: 0.2022\n",
            "Epoch 43/50\n",
            "600/600 [==============================] - 10s 16ms/step - loss: 0.2019\n",
            "Epoch 44/50\n",
            "600/600 [==============================] - 10s 16ms/step - loss: 0.2015\n",
            "Epoch 45/50\n",
            "600/600 [==============================] - 11s 18ms/step - loss: 0.2012\n",
            "Epoch 46/50\n",
            "600/600 [==============================] - 10s 17ms/step - loss: 0.2009\n",
            "Epoch 47/50\n",
            "600/600 [==============================] - 10s 17ms/step - loss: 0.2007\n",
            "Epoch 48/50\n",
            "600/600 [==============================] - 9s 16ms/step - loss: 0.2004\n",
            "Epoch 49/50\n",
            "600/600 [==============================] - 10s 17ms/step - loss: 0.2001\n",
            "Epoch 50/50\n",
            "600/600 [==============================] - 10s 17ms/step - loss: 0.1998\n"
          ]
        },
        {
          "output_type": "execute_result",
          "data": {
            "text/plain": [
              "<keras.callbacks.History at 0x7c53e45d2320>"
            ]
          },
          "metadata": {},
          "execution_count": 12
        }
      ]
    },
    {
      "cell_type": "code",
      "source": [],
      "metadata": {
        "id": "93PSFIEZObGS"
      },
      "execution_count": null,
      "outputs": []
    }
  ]
}