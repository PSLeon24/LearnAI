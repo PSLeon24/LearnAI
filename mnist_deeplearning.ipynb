{
  "nbformat": 4,
  "nbformat_minor": 0,
  "metadata": {
    "colab": {
      "provenance": [],
      "authorship_tag": "ABX9TyOqNMtT3vacz6i00XhZZN5X",
      "include_colab_link": true
    },
    "kernelspec": {
      "name": "python3",
      "display_name": "Python 3"
    },
    "language_info": {
      "name": "python"
    }
  },
  "cells": [
    {
      "cell_type": "markdown",
      "metadata": {
        "id": "view-in-github",
        "colab_type": "text"
      },
      "source": [
        "<a href=\"https://colab.research.google.com/github/PSLeon24/LearnAI/blob/main/%08mnist_deeplearning.ipynb\" target=\"_parent\"><img src=\"https://colab.research.google.com/assets/colab-badge.svg\" alt=\"Open In Colab\"/></a>"
      ]
    },
    {
      "cell_type": "markdown",
      "source": [
        "<h1>숫자 인식 인공지능 만들기</h1>\n",
        "\n",
        "2023년 5월 2일(화요일) 고영민"
      ],
      "metadata": {
        "id": "-zaTaL_zp9XY"
      }
    },
    {
      "cell_type": "markdown",
      "source": [
        "**1. 딥러닝 모델 개발을 위한 라이브러리 불러오기**"
      ],
      "metadata": {
        "id": "8cQBSYNc8V7M"
      }
    },
    {
      "cell_type": "code",
      "execution_count": 2,
      "metadata": {
        "id": "YiPToJ-8lEWL"
      },
      "outputs": [],
      "source": [
        "from tensorflow.keras.models import Sequential\n",
        "from tensorflow.keras.layers import Dense, Activation\n",
        "from tensorflow.keras.utils import to_categorical\n",
        "from tensorflow.keras.datasets import mnist\n",
        "import numpy as np\n",
        "import matplotlib.pyplot as plt\n",
        "import pandas as pd"
      ]
    },
    {
      "cell_type": "markdown",
      "source": [
        "**2. 데이터셋 불러오기**\n",
        "\n",
        "인공지능 모델을 만들기 위해서 훈련 데이터(train data)와 검증 데이터(test data)가 필요\n",
        "\n",
        "학생이 시험을 보기 위해 문제집을 풀어서 공부한 후 시험을 침 → 이와 같이 훈련 데이터로 학습한 후 학습에 사용하지 않은 데이터인 검증 데이터로 인공지능의 성능을 평가해야 함\n"
      ],
      "metadata": {
        "id": "QG2y37YQ8RsZ"
      }
    },
    {
      "cell_type": "code",
      "source": [
        "(x_train, y_train), (x_test, y_test) = mnist.load_data() # 데이터 불러오기\n",
        "print('x_train shape', x_train.shape)\n",
        "print('y_train shape', y_train.shape)\n",
        "print('x_test shape', x_test.shape)\n",
        "print('x_test shape', y_test.shape)"
      ],
      "metadata": {
        "colab": {
          "base_uri": "https://localhost:8080/"
        },
        "id": "VeR7jbSpqb9X",
        "outputId": "e0501558-ee12-4b94-82f2-a954f0f972d2"
      },
      "execution_count": 4,
      "outputs": [
        {
          "output_type": "stream",
          "name": "stdout",
          "text": [
            "x_train shape (60000, 28, 28)\n",
            "y_train shape (60000,)\n",
            "x_test shape (10000, 28, 28)\n",
            "x_test shape (10000,)\n"
          ]
        }
      ]
    },
    {
      "cell_type": "markdown",
      "source": [
        "· (x_train, y_train), (x_test, y_test) = mnist.load_data()\n",
        "mnist 데이터셋에는 load_data()라는 함수가 포함되어 있음\n",
        "\n",
        "load_data(): mnist 데이터셋에서 데이터를 불러오라는 명령어\n",
        "\n",
        "mnist 데이터는 훈련 데이터(x_train, y_train)와 검증 데이터(x_test, y_test)의 네 부분으로 나뉘어 있음\n",
        "\n",
        "훈련 데이터는 각 손글씨 그림(x_train)과 그 그림이 어떤 숫자를 의미하는지(y_train)가 있으며 검증 데이터도 마찬가지임\n",
        "\n",
        "\n",
        "\n",
        "· print(\"x_train shape\", x_train.shape)\n",
        "x_train 데이터의 형태를 출력하는 명령어\n",
        "\n",
        "x_train.shape에서 shape를 사용하면 데이터 형태를 볼 수 있음\n",
        "\n",
        "코드 실행 결과: x_train shape (60000, 28, 28)\n",
        "\n",
        "x_train 데이터에는 총 60,000개의 데이터가 있고, 각 데이터에는 가로 28 x 세로 28의 데이터가 있으므로 x_train 데이터의 모습은 60000, 28, 28임\n",
        "\n",
        "· print(\"y_train shape\", y_train.shape)\n",
        "y_train 데이터의 형태를 출력하는 명령어\n",
        "\n",
        "y_train 데이터는 x_train 데이터의 정답\n",
        "\n",
        "코드 실행 결과: y_train shape (60000,) # x_train 데이터의 개수와 동일\n",
        "\n",
        "y_train의 경우 1차원 배열인데, y_train 데이터는 x_train의 몇 번째 데이터의 값이 무엇인지를 나타내고 있기 때문임\n",
        "\n",
        "\n",
        "\n",
        "· print(\"x_test shape\", x_test.shape)\n",
        "x_test 데이터의 형태를 출력하는 명령어\n",
        "\n",
        "코드 실행 결과: x_test shape (10000, 28, 28)\n",
        "\n",
        "x_train 데이터와 비교했을 때 데이터의 총 개수가 다름\n",
        "\n",
        "\n",
        "\n",
        "· print(\"y_test shape\", y_test.shape)\n",
        "y_test 데이터의 형태를 출력하는 명령어\n",
        "\n",
        "코드 실행 결과: y_test shape (10000,)\n",
        "\n",
        "x_test shape와 마찬가지로 y_train과 비교했을 때 데이터의 총 개수가 다름"
      ],
      "metadata": {
        "id": "1x50CBG88IXf"
      }
    },
    {
      "cell_type": "markdown",
      "source": [
        "**3. mnist 데이터셋에서 X의 형태 변형**\n",
        "\n",
        "인공지능 모델을 학습시키기 위해 28x28 형태의 데이터의 형태를 바꿀 필요가 있음\n",
        "\n",
        "why? → 인공 신경망의 입력층에 넣을 때는 한 줄로 만들어 넣어야 하기 때문\n",
        "\n",
        "반드시 한 줄로 넣어야 하나? → 항상 입력 데이터를 한 줄로 만들 필요는 X, 모델을 설계하는 방식에 따라 바뀜\n",
        "\n",
        "\n",
        "\n",
        "먼저, 28x28의 데이터를 1x784 형태처럼 즉 일차원 배열의 형태로 만들고자 함(numpy의 reshape() 함수 사용)"
      ],
      "metadata": {
        "id": "0own-I4W8B93"
      }
    },
    {
      "cell_type": "code",
      "source": [
        "X_train = x_train.reshape(60000, 784)\n",
        "X_test = x_test.reshape(10000, 784)\n",
        "\n",
        "# 정규화 처리 → 데이터의 특성을 더 잘드러나도록 하기 위해 해줌\n",
        "X_train = X_train.astype('float32')\n",
        "X_test = X_test.astype('float32')\n",
        "X_train /= 255\n",
        "X_test /= 255\n",
        "\n",
        "print(f'X Training matrix shape is {X_train.shape}')\n",
        "print(f'X Testing matrix shape is {X_test.shape}')"
      ],
      "metadata": {
        "colab": {
          "base_uri": "https://localhost:8080/"
        },
        "id": "gfRBJpx5uw2g",
        "outputId": "e243fde4-8852-44b1-c413-afeb3f1e4234"
      },
      "execution_count": 5,
      "outputs": [
        {
          "output_type": "stream",
          "name": "stdout",
          "text": [
            "X Training matrix shape is (60000, 784)\n",
            "X Testing matrix shape is (10000, 784)\n"
          ]
        }
      ]
    },
    {
      "cell_type": "markdown",
      "source": [
        "· X_train = x_train.reshape(60000, 784) &X_test = x_test.reshape(10000, 784)\n",
        "28x28 형태인 x_train 데이터와 x_test 데이터를 1x784로 바꿈\n",
        "\n",
        "\n",
        "\n",
        "· x_train = X_train.astype('float32') & X_test = x_test.astype('float32')\n",
        "정규화하기 위해 데이터를 0~1 사이의 값으로 바꿔야 함. 따라서 실수형으로 자료형을 변경\n",
        "\n",
        "\n",
        "\n",
        "·X_train /= 255 & X_test /= 255\n",
        "mnist 데이터는 검은색은 0, 흰색은 255, 회색은 1~254 사이의 값으로 이루어져 있음\n",
        "\n",
        "이를 정규화하기 위해 데이터를 0~1 사이의 값으로 바꾸는 방법은 바로 255로 나누면 됨"
      ],
      "metadata": {
        "id": "sI6AVmPf73Mg"
      }
    },
    {
      "cell_type": "markdown",
      "source": [
        "**4. mnist 데이터셋에서 Y의 형태 변형**\n",
        "\n",
        "y_train 데이터와 y_test 데이터의 형태를 인공지능이 분류를 잘 할 수 있도록 변형이 필요\n",
        "\n",
        "인공지능은 이미지가 가진 숫자의 특성을 알 필요가 없음(ex: 숫자 간 대소관계)\n",
        "\n",
        "따라서 이미지의 정답(label)을 인공지능에게 0, 1, 2, 3, 4, 5, 6, 7, 8, 9와 같이 알려주는 것이 아니라 0은 10개의 숫자 중 첫 번째, 4는 10개의 숫자 중 5번째 숫자로 변환해주는 것이 필요(수치형 데이터 ⇒ 범주형 데이터로 변환)\n",
        "\n",
        "따라서, 정답 레이블을 순서로 나타내도록 데이터의 형태를 바꾸기 위해 원-핫 인코딩(one-hot incoding) 사용"
      ],
      "metadata": {
        "id": "nqpyxllE7gtt"
      }
    },
    {
      "cell_type": "code",
      "source": [
        "Y_train = to_categorical(y_train, 10)\n",
        "Y_test = to_categorical(y_test, 10)\n",
        "print(f'Y Training matrix shape is {Y_train.shape}')\n",
        "print(f'Y Test matrix shape is {Y_test.shape}')"
      ],
      "metadata": {
        "colab": {
          "base_uri": "https://localhost:8080/"
        },
        "id": "KBftqrqG2KRc",
        "outputId": "c14388f4-3cc3-448b-9129-41867118b9d6"
      },
      "execution_count": 6,
      "outputs": [
        {
          "output_type": "stream",
          "name": "stdout",
          "text": [
            "Y Training matrix shape is (60000, 10)\n",
            "Y Test matrix shape is (10000, 10)\n"
          ]
        }
      ]
    },
    {
      "cell_type": "markdown",
      "source": [
        "· Y_train = to_categorical(y_train, 10) &Y_test = to_categorical(y_test, 10)\n",
        "\n",
        "Y_train 데이터와 Y-test 데이터를 원-핫 인코딩함\n",
        "\n",
        "to_categorical() 함수는 수치형 데이터를 범주형 데이터로 만들어 주는 함수\n",
        "\n",
        "이 함수를 사용하기 위해서는 변경 전 데이터와 원-핫 인코딩할 숫자, 즉 몇 개로 구분하고자 하는지가 필요(우리는 10개가 필요하므로 10으로 설정)\n",
        "\n",
        "만약 숫자가 3일 경우 [0, 0, 0, 1, 0, 0, 0, 0, 0, 0, 0]과 같이 바뀜"
      ],
      "metadata": {
        "id": "d32THzjM7l6j"
      }
    },
    {
      "cell_type": "code",
      "source": [
        "model = Sequential()\n",
        "model.add(Dense(512, input_shape=(784,)))\n",
        "model.add(Activation('relu'))\n",
        "model.add(Dense(256))\n",
        "model.add(Activation('relu'))\n",
        "model.add(Dense(10))\n",
        "model.add(Activation('softmax'))\n",
        "model.summary()"
      ],
      "metadata": {
        "colab": {
          "base_uri": "https://localhost:8080/"
        },
        "id": "PUfUmdiu53n7",
        "outputId": "0b3dfbc7-3a01-4a15-d662-fb952b3dd747"
      },
      "execution_count": 7,
      "outputs": [
        {
          "output_type": "stream",
          "name": "stdout",
          "text": [
            "Model: \"sequential\"\n",
            "_________________________________________________________________\n",
            " Layer (type)                Output Shape              Param #   \n",
            "=================================================================\n",
            " dense (Dense)               (None, 512)               401920    \n",
            "                                                                 \n",
            " activation (Activation)     (None, 512)               0         \n",
            "                                                                 \n",
            " dense_1 (Dense)             (None, 256)               131328    \n",
            "                                                                 \n",
            " activation_1 (Activation)   (None, 256)               0         \n",
            "                                                                 \n",
            " dense_2 (Dense)             (None, 10)                2570      \n",
            "                                                                 \n",
            " activation_2 (Activation)   (None, 10)                0         \n",
            "                                                                 \n",
            "=================================================================\n",
            "Total params: 535,818\n",
            "Trainable params: 535,818\n",
            "Non-trainable params: 0\n",
            "_________________________________________________________________\n"
          ]
        }
      ]
    },
    {
      "cell_type": "code",
      "source": [
        "model.compile(loss='categorical_crossentropy', optimizer='adam', metrics=['accuracy'])\n",
        "model.fit(X_train, Y_train, batch_size=128, epochs=10, verbose=1)"
      ],
      "metadata": {
        "colab": {
          "base_uri": "https://localhost:8080/"
        },
        "id": "_UvV4J1A9GAt",
        "outputId": "086273d0-0661-4748-cbbc-a50b8c65b3e9"
      },
      "execution_count": 8,
      "outputs": [
        {
          "output_type": "stream",
          "name": "stdout",
          "text": [
            "Epoch 1/10\n",
            "469/469 [==============================] - 7s 13ms/step - loss: 0.2276 - accuracy: 0.9340\n",
            "Epoch 2/10\n",
            "469/469 [==============================] - 5s 12ms/step - loss: 0.0820 - accuracy: 0.9755\n",
            "Epoch 3/10\n",
            "469/469 [==============================] - 5s 11ms/step - loss: 0.0532 - accuracy: 0.9832\n",
            "Epoch 4/10\n",
            "469/469 [==============================] - 6s 14ms/step - loss: 0.0353 - accuracy: 0.9884\n",
            "Epoch 5/10\n",
            "469/469 [==============================] - 5s 11ms/step - loss: 0.0273 - accuracy: 0.9914\n",
            "Epoch 6/10\n",
            "469/469 [==============================] - 7s 14ms/step - loss: 0.0232 - accuracy: 0.9923\n",
            "Epoch 7/10\n",
            "469/469 [==============================] - 5s 12ms/step - loss: 0.0183 - accuracy: 0.9940\n",
            "Epoch 8/10\n",
            "469/469 [==============================] - 6s 14ms/step - loss: 0.0153 - accuracy: 0.9948\n",
            "Epoch 9/10\n",
            "469/469 [==============================] - 5s 11ms/step - loss: 0.0115 - accuracy: 0.9960\n",
            "Epoch 10/10\n",
            "469/469 [==============================] - 6s 13ms/step - loss: 0.0125 - accuracy: 0.9960\n"
          ]
        },
        {
          "output_type": "execute_result",
          "data": {
            "text/plain": [
              "<keras.callbacks.History at 0x7f0ee9834f40>"
            ]
          },
          "metadata": {},
          "execution_count": 8
        }
      ]
    },
    {
      "cell_type": "code",
      "source": [
        "score = model.evaluate(X_test, Y_test)\n",
        "print(f'Test score is {score[0]}')\n",
        "print(f'Test accuracy is {score[1]}')"
      ],
      "metadata": {
        "colab": {
          "base_uri": "https://localhost:8080/"
        },
        "id": "03Brxz6fCdNn",
        "outputId": "935591a5-5751-4a3e-c3ff-cb918313bba8"
      },
      "execution_count": 9,
      "outputs": [
        {
          "output_type": "stream",
          "name": "stdout",
          "text": [
            "313/313 [==============================] - 1s 4ms/step - loss: 0.0764 - accuracy: 0.9808\n",
            "Test score is 0.07637156546115875\n",
            "Test accuracy is 0.9807999730110168\n"
          ]
        }
      ]
    },
    {
      "cell_type": "code",
      "source": [
        "predicted_classes = np.argmax(model.predict(X_test), axis=1)\n",
        "correct_indices = np.nonzero(predicted_classes == y_test)[0]\n",
        "incorrect_indices = np.nonzero(predicted_classes != y_test)[0]"
      ],
      "metadata": {
        "id": "UEuP2bh9F3Rw",
        "colab": {
          "base_uri": "https://localhost:8080/"
        },
        "outputId": "d6a43e12-0c3b-4e88-813b-bb93b96f7018"
      },
      "execution_count": 13,
      "outputs": [
        {
          "output_type": "stream",
          "name": "stdout",
          "text": [
            "313/313 [==============================] - 2s 5ms/step\n"
          ]
        }
      ]
    },
    {
      "cell_type": "code",
      "source": [
        "plt.figure()\n",
        "for i in range(9):\n",
        "  plt.subplot(3, 3, i+1)\n",
        "  correct = correct_indices[i]\n",
        "  plt.imshow(X_test[correct].reshape(28, 28), cmap='gray')\n",
        "  plt.title(f'Predicted {predicted_classes[correct]}, Class {[y_test[correct]]}')\n",
        "  plt.tight_layout()"
      ],
      "metadata": {
        "colab": {
          "base_uri": "https://localhost:8080/",
          "height": 543
        },
        "id": "0RsiKoHyAbFj",
        "outputId": "18f4f220-d3a8-4b83-fad9-36e4175bc1cf"
      },
      "execution_count": 11,
      "outputs": [
        {
          "output_type": "stream",
          "name": "stderr",
          "text": [
            "<ipython-input-11-7b9ec4ef4916>:3: MatplotlibDeprecationWarning: Auto-removal of overlapping axes is deprecated since 3.6 and will be removed two minor releases later; explicitly call ax.remove() as needed.\n",
            "  plt.subplot(3, 3, i+1)\n"
          ]
        },
        {
          "output_type": "display_data",
          "data": {
            "text/plain": [
              "<Figure size 640x480 with 8 Axes>"
            ],
            "image/png": "[encoded data removed]"
          },
          "metadata": {}
        }
      ]
    },
    {
      "cell_type": "code",
      "source": [
        "plt.figure()\n",
        "for i in range(9):\n",
        "  plt.subplot(3, 3, i+1)\n",
        "  incorrect = incorrect_indices[i]\n",
        "  plt.imshow(X_test[incorrect].reshape(28, 28), cmap='gray')\n",
        "  plt.title(f'Predicted {predicted_classes[incorrect]}, Class {[y_test[incorrect]]}')\n",
        "  plt.tight_layout()"
      ],
      "metadata": {
        "colab": {
          "base_uri": "https://localhost:8080/",
          "height": 543
        },
        "id": "Qrq8IpNwFZfV",
        "outputId": "6da33321-c5ae-48d8-da61-2af814f7e959"
      },
      "execution_count": 14,
      "outputs": [
        {
          "output_type": "stream",
          "name": "stderr",
          "text": [
            "<ipython-input-14-e4e54788a064>:3: MatplotlibDeprecationWarning: Auto-removal of overlapping axes is deprecated since 3.6 and will be removed two minor releases later; explicitly call ax.remove() as needed.\n",
            "  plt.subplot(3, 3, i+1)\n"
          ]
        },
        {
          "output_type": "display_data",
          "data": {
            "text/plain": [
              "<Figure size 640x480 with 8 Axes>"
            ],
            "image/png": "[encoded data removed]"
          },
          "metadata": {}
        }
      ]
    },
    {
      "cell_type": "code",
      "source": [
        "model.compile(loss='categorical_crossentropy', optimizer='adam', metrics=['accuracy'])\n",
        "model.fit(X_train, Y_train, batch_size=128, epochs=50, verbose=1)"
      ],
      "metadata": {
        "colab": {
          "base_uri": "https://localhost:8080/"
        },
        "id": "BwqRKhy-GGOL",
        "outputId": "c9f7622b-3884-4981-d536-1768bfc13ef5"
      },
      "execution_count": 15,
      "outputs": [
        {
          "output_type": "stream",
          "name": "stdout",
          "text": [
            "Epoch 1/50\n",
            "469/469 [==============================] - 8s 15ms/step - loss: 0.0144 - accuracy: 0.9952\n",
            "Epoch 2/50\n",
            "469/469 [==============================] - 5s 12ms/step - loss: 0.0125 - accuracy: 0.9959\n",
            "Epoch 3/50\n",
            "469/469 [==============================] - 6s 13ms/step - loss: 0.0077 - accuracy: 0.9972\n",
            "Epoch 4/50\n",
            "469/469 [==============================] - 6s 13ms/step - loss: 0.0082 - accuracy: 0.9974\n",
            "Epoch 5/50\n",
            "469/469 [==============================] - 6s 12ms/step - loss: 0.0105 - accuracy: 0.9967\n",
            "Epoch 6/50\n",
            "469/469 [==============================] - 7s 14ms/step - loss: 0.0067 - accuracy: 0.9979\n",
            "Epoch 7/50\n",
            "469/469 [==============================] - 6s 12ms/step - loss: 0.0095 - accuracy: 0.9969\n",
            "Epoch 8/50\n",
            "469/469 [==============================] - 7s 14ms/step - loss: 0.0085 - accuracy: 0.9970\n",
            "Epoch 9/50\n",
            "469/469 [==============================] - 6s 12ms/step - loss: 0.0087 - accuracy: 0.9973\n",
            "Epoch 10/50\n",
            "469/469 [==============================] - 7s 15ms/step - loss: 0.0030 - accuracy: 0.9991\n",
            "Epoch 11/50\n",
            "469/469 [==============================] - 5s 12ms/step - loss: 0.0057 - accuracy: 0.9983\n",
            "Epoch 12/50\n",
            "469/469 [==============================] - 7s 14ms/step - loss: 0.0086 - accuracy: 0.9973\n",
            "Epoch 13/50\n",
            "469/469 [==============================] - 5s 11ms/step - loss: 0.0089 - accuracy: 0.9972\n",
            "Epoch 14/50\n",
            "469/469 [==============================] - 7s 14ms/step - loss: 0.0044 - accuracy: 0.9986\n",
            "Epoch 15/50\n",
            "469/469 [==============================] - 5s 11ms/step - loss: 0.0031 - accuracy: 0.9991\n",
            "Epoch 16/50\n",
            "469/469 [==============================] - 6s 13ms/step - loss: 0.0054 - accuracy: 0.9984\n",
            "Epoch 17/50\n",
            "469/469 [==============================] - 6s 12ms/step - loss: 0.0054 - accuracy: 0.9983\n",
            "Epoch 18/50\n",
            "469/469 [==============================] - 5s 11ms/step - loss: 0.0087 - accuracy: 0.9974\n",
            "Epoch 19/50\n",
            "469/469 [==============================] - 7s 14ms/step - loss: 0.0036 - accuracy: 0.9988\n",
            "Epoch 20/50\n",
            "469/469 [==============================] - 5s 11ms/step - loss: 0.0054 - accuracy: 0.9984\n",
            "Epoch 21/50\n",
            "469/469 [==============================] - 7s 14ms/step - loss: 0.0039 - accuracy: 0.9989\n",
            "Epoch 22/50\n",
            "469/469 [==============================] - 5s 11ms/step - loss: 0.0052 - accuracy: 0.9985\n",
            "Epoch 23/50\n",
            "469/469 [==============================] - 6s 14ms/step - loss: 0.0042 - accuracy: 0.9985\n",
            "Epoch 24/50\n",
            "469/469 [==============================] - 5s 11ms/step - loss: 0.0070 - accuracy: 0.9979\n",
            "Epoch 25/50\n",
            "469/469 [==============================] - 6s 13ms/step - loss: 0.0017 - accuracy: 0.9995\n",
            "Epoch 26/50\n",
            "469/469 [==============================] - 5s 11ms/step - loss: 0.0026 - accuracy: 0.9993\n",
            "Epoch 27/50\n",
            "469/469 [==============================] - 5s 11ms/step - loss: 0.0093 - accuracy: 0.9976\n",
            "Epoch 28/50\n",
            "469/469 [==============================] - 6s 14ms/step - loss: 0.0039 - accuracy: 0.9986\n",
            "Epoch 29/50\n",
            "469/469 [==============================] - 5s 11ms/step - loss: 0.0040 - accuracy: 0.9988\n",
            "Epoch 30/50\n",
            "469/469 [==============================] - 6s 14ms/step - loss: 0.0038 - accuracy: 0.9988\n",
            "Epoch 31/50\n",
            "469/469 [==============================] - 5s 11ms/step - loss: 0.0040 - accuracy: 0.9987\n",
            "Epoch 32/50\n",
            "469/469 [==============================] - 7s 14ms/step - loss: 0.0032 - accuracy: 0.9991\n",
            "Epoch 33/50\n",
            "469/469 [==============================] - 5s 11ms/step - loss: 0.0024 - accuracy: 0.9993\n",
            "Epoch 34/50\n",
            "469/469 [==============================] - 6s 14ms/step - loss: 0.0049 - accuracy: 0.9986\n",
            "Epoch 35/50\n",
            "469/469 [==============================] - 6s 12ms/step - loss: 0.0058 - accuracy: 0.9984\n",
            "Epoch 36/50\n",
            "469/469 [==============================] - 6s 12ms/step - loss: 0.0022 - accuracy: 0.9993\n",
            "Epoch 37/50\n",
            "469/469 [==============================] - 6s 13ms/step - loss: 0.0034 - accuracy: 0.9991\n",
            "Epoch 38/50\n",
            "469/469 [==============================] - 5s 11ms/step - loss: 0.0029 - accuracy: 0.9992\n",
            "Epoch 39/50\n",
            "469/469 [==============================] - 6s 14ms/step - loss: 0.0061 - accuracy: 0.9985\n",
            "Epoch 40/50\n",
            "469/469 [==============================] - 5s 11ms/step - loss: 0.0049 - accuracy: 0.9987\n",
            "Epoch 41/50\n",
            "469/469 [==============================] - 7s 14ms/step - loss: 0.0030 - accuracy: 0.9991\n",
            "Epoch 42/50\n",
            "469/469 [==============================] - 5s 11ms/step - loss: 0.0065 - accuracy: 0.9982\n",
            "Epoch 43/50\n",
            "469/469 [==============================] - 7s 14ms/step - loss: 0.0022 - accuracy: 0.9993\n",
            "Epoch 44/50\n",
            "469/469 [==============================] - 5s 11ms/step - loss: 0.0013 - accuracy: 0.9997\n",
            "Epoch 45/50\n",
            "469/469 [==============================] - 7s 14ms/step - loss: 0.0012 - accuracy: 0.9997\n",
            "Epoch 46/50\n",
            "469/469 [==============================] - 6s 12ms/step - loss: 0.0030 - accuracy: 0.9991\n",
            "Epoch 47/50\n",
            "469/469 [==============================] - 6s 14ms/step - loss: 0.0053 - accuracy: 0.9985\n",
            "Epoch 48/50\n",
            "469/469 [==============================] - 6s 13ms/step - loss: 0.0070 - accuracy: 0.9981\n",
            "Epoch 49/50\n",
            "469/469 [==============================] - 6s 13ms/step - loss: 0.0032 - accuracy: 0.9991\n",
            "Epoch 50/50\n",
            "469/469 [==============================] - 6s 14ms/step - loss: 0.0011 - accuracy: 0.9997\n"
          ]
        },
        {
          "output_type": "execute_result",
          "data": {
            "text/plain": [
              "<keras.callbacks.History at 0x7f0ecba8dab0>"
            ]
          },
          "metadata": {},
          "execution_count": 15
        }
      ]
    },
    {
      "cell_type": "code",
      "source": [],
      "metadata": {
        "id": "LdIzOR0dG-SZ"
      },
      "execution_count": null,
      "outputs": []
    }
  ]
}