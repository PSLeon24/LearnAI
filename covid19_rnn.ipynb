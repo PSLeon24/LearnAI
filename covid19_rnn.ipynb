{
  "nbformat": 4,
  "nbformat_minor": 0,
  "metadata": {
    "colab": {
      "provenance": [],
      "authorship_tag": "ABX9TyNTj9rX4lLEzzZhM6bxwkmx",
      "include_colab_link": true
    },
    "kernelspec": {
      "name": "python3",
      "display_name": "Python 3"
    },
    "language_info": {
      "name": "python"
    }
  },
  "cells": [
    {
      "cell_type": "markdown",
      "metadata": {
        "id": "view-in-github",
        "colab_type": "text"
      },
      "source": [
        "<a href=\"https://colab.research.google.com/github/PSLeon24/LearnAI/blob/main/covid19_rnn.ipynb\" target=\"_parent\"><img src=\"https://colab.research.google.com/assets/colab-badge.svg\" alt=\"Open In Colab\"/></a>"
      ]
    },
    {
      "cell_type": "markdown",
      "source": [
        "## RNN 알고리즘을 통해 코로나 19 확진자 수를 예측하는 인공지능 모델"
      ],
      "metadata": {
        "id": "curgsGiis8VT"
      }
    },
    {
      "cell_type": "markdown",
      "source": [
        "### Import Library"
      ],
      "metadata": {
        "id": "dubk2r2-szms"
      }
    },
    {
      "cell_type": "code",
      "execution_count": 4,
      "metadata": {
        "id": "5AMPVNwbe8MM"
      },
      "outputs": [],
      "source": [
        "from keras.models import Sequential # 케라스의 시퀀셜(순차) 모델 import\n",
        "from keras.layers import SimpleRNN, Dense\n",
        "'''\n",
        "레이어 도구 중 SimpleRNN과 Dense 도구를 import\n",
        "SimpleRNN: 가장 기본적인 순환 신경망\n",
        "Dense: 각 레이어에서 뉴런의 수\n",
        "'''\n",
        "from sklearn.preprocessing import MinMaxScaler # 데이터를 정규화하기 위한 MinMaxScaler() 함수를 import\n",
        "from sklearn.metrics import mean_squared_error # 결과의 정확도를 계산하기 위한 mean_squared_error() 함수를 import ← 실제 값과 예측 값의 차이를 사용해 오차를 구함\n",
        "from sklearn.model_selection import train_test_split # 데이터를 훈련 데이터와 검증 데이터로 나누는 train_test_split() 함수를 import ← 인공지능 성능 측정 위해서 나눔\n",
        "import math\n",
        "import numpy as np\n",
        "import matplotlib.pyplot as plt\n",
        "from pandas import read_csv"
      ]
    },
    {
      "cell_type": "markdown",
      "source": [
        "### Import Data"
      ],
      "metadata": {
        "id": "DG9pD7FsvAsf"
      }
    },
    {
      "cell_type": "code",
      "source": [
        "!git clone https://github.com/yhlee1627/deeplearning.git"
      ],
      "metadata": {
        "colab": {
          "base_uri": "https://localhost:8080/"
        },
        "id": "RiklpvtRtVqx",
        "outputId": "79defe1d-08a7-4ed7-a77b-be6fcdbdfe0a"
      },
      "execution_count": 5,
      "outputs": [
        {
          "output_type": "stream",
          "name": "stdout",
          "text": [
            "Cloning into 'deeplearning'...\n",
            "remote: Enumerating objects: 5, done.\u001b[K\n",
            "remote: Counting objects: 100% (5/5), done.\u001b[K\n",
            "remote: Compressing objects: 100% (3/3), done.\u001b[K\n",
            "Unpacking objects: 100% (5/5), 3.03 KiB | 1.51 MiB/s, done.\n",
            "remote: Total 5 (delta 0), reused 0 (delta 0), pack-reused 0\u001b[K\n"
          ]
        }
      ]
    },
    {
      "cell_type": "code",
      "source": [
        "dataframe = read_csv('/content/deeplearning/corona_daily.csv', usecols=[3], engine='python', skipfooter=3)\n",
        "'''\n",
        "usecols=[3] ← Columns 에서 확진자를 나타내는 Confirmed의 컬럼을 데이터로 사용한다는 뜻\n",
        "skipfooter=3 ← 뒤에서 3개의 행은 skip\n",
        "'''\n",
        "print(dataframe)\n",
        "dataset = dataframe.values # 확진자 수 데이터만 가져오기\n",
        "dataset = dataset.astype('float32') # 정규화를 실시할 수 있도록 두 번째 행의 값을 실수로 변환\n",
        "print(dataset[:5])"
      ],
      "metadata": {
        "colab": {
          "base_uri": "https://localhost:8080/"
        },
        "id": "vH4sLyLdvMqG",
        "outputId": "dea40cfe-9fc2-43af-c207-3c92491e1ae9"
      },
      "execution_count": 18,
      "outputs": [
        {
          "output_type": "stream",
          "name": "stdout",
          "text": [
            "     Confirmed\n",
            "0           24\n",
            "1           24\n",
            "2           27\n",
            "3           27\n",
            "4           28\n",
            "..         ...\n",
            "107      11190\n",
            "108      11206\n",
            "109      11225\n",
            "110      11265\n",
            "111      11344\n",
            "\n",
            "[112 rows x 1 columns]\n",
            "[[24.]\n",
            " [24.]\n",
            " [27.]\n",
            " [27.]\n",
            " [28.]]\n"
          ]
        }
      ]
    },
    {
      "cell_type": "markdown",
      "source": [
        "### Normalize and Classify Data"
      ],
      "metadata": {
        "id": "LLD7fDoBw7EG"
      }
    },
    {
      "cell_type": "code",
      "source": [
        "scaler = MinMaxScaler(feature_range=(0, 1)) # 정규화 범위 0 ~ 1 사이\n",
        "Dataset = scaler.fit_transform(dataset) # 데이터를 정규화\n",
        "print(Dataset[:5])\n",
        "train_data, test_data = train_test_split(Dataset, test_size=0.2, shuffle=False)\n",
        "# train_data와 test_data를 8:2로 순차 추출\n",
        "print(len(train_data), len(test_data))\n",
        "print('train data')\n",
        "print(train_data[:5])\n",
        "print()\n",
        "print('test data')\n",
        "print(test_data[:5])"
      ],
      "metadata": {
        "colab": {
          "base_uri": "https://localhost:8080/"
        },
        "id": "-BQT-7TSvcqf",
        "outputId": "23a22475-549d-478c-9114-9a1fe211ba33"
      },
      "execution_count": 12,
      "outputs": [
        {
          "output_type": "stream",
          "name": "stdout",
          "text": [
            "[[0.        ]\n",
            " [0.        ]\n",
            " [0.00026502]\n",
            " [0.00026502]\n",
            " [0.00035336]]\n",
            "89 23\n",
            "train data\n",
            "[[0.        ]\n",
            " [0.        ]\n",
            " [0.00026502]\n",
            " [0.00026502]\n",
            " [0.00035336]]\n",
            "\n",
            "test data\n",
            "[[0.95247346]\n",
            " [0.95282686]\n",
            " [0.9538869 ]\n",
            " [0.955477  ]\n",
            " [0.95848054]]\n"
          ]
        }
      ]
    },
    {
      "cell_type": "markdown",
      "source": [
        "### Data form conversion"
      ],
      "metadata": {
        "id": "NyhY-6DxysG4"
      }
    },
    {
      "cell_type": "code",
      "source": [
        "def create_dataset(dataset, look_back):\n",
        "  # 데이터셋과 연속되는 데이터의 개수를 인자로 받음\n",
        "  x_data = []\n",
        "  y_data = []\n",
        "  for i in range(len(dataset)-look_back):\n",
        "    data = dataset[i:(i+look_back), 0]\n",
        "    x_data.append(data)\n",
        "    y_data.append(dataset[i + look_back, 0])\n",
        "  return np.array(x_data), np.array(y_data)"
      ],
      "metadata": {
        "id": "QHLjcpGGxTcE"
      },
      "execution_count": 13,
      "outputs": []
    },
    {
      "cell_type": "markdown",
      "source": [
        "### Create input data"
      ],
      "metadata": {
        "id": "XXLg_uwu0PpV"
      }
    },
    {
      "cell_type": "code",
      "source": [
        "look_back = 3 # 며칠 동안 연속된 데이터인지\n",
        "x_train, y_train = create_dataset(train_data, look_back)\n",
        "x_test, y_test = create_dataset(test_data, look_back)\n",
        "print(x_train.shape, y_train.shape)\n",
        "print(x_test.shape, y_test.shape)"
      ],
      "metadata": {
        "colab": {
          "base_uri": "https://localhost:8080/"
        },
        "id": "HtsN0skF0OJe",
        "outputId": "2fff8b8d-8bc7-45fb-d1fc-a30c38389cd5"
      },
      "execution_count": 14,
      "outputs": [
        {
          "output_type": "stream",
          "name": "stdout",
          "text": [
            "(86, 3) (86,)\n",
            "(20, 3) (20,)\n"
          ]
        }
      ]
    },
    {
      "cell_type": "markdown",
      "source": [
        "### Convert it into a form that will be put into the AI model"
      ],
      "metadata": {
        "id": "ZVjSFOdf06Rp"
      }
    },
    {
      "cell_type": "code",
      "source": [
        "X_train = np.reshape(x_train, (x_train.shape[0], 1, x_train.shape[1]))\n",
        "X_test = np.reshape(x_test, (x_test.shape[0], 1, x_test.shape[1]))\n",
        "print(X_train.shape)\n",
        "print(X_test.shape)"
      ],
      "metadata": {
        "colab": {
          "base_uri": "https://localhost:8080/"
        },
        "id": "_eerB-ar0-Zu",
        "outputId": "41b875ee-3297-46f5-89ff-ff8739e78904"
      },
      "execution_count": 15,
      "outputs": [
        {
          "output_type": "stream",
          "name": "stdout",
          "text": [
            "(86, 1, 3)\n",
            "(20, 1, 3)\n"
          ]
        }
      ]
    },
    {
      "cell_type": "markdown",
      "source": [
        "### Create AI Model"
      ],
      "metadata": {
        "id": "x5Gv6nnS1dpM"
      }
    },
    {
      "cell_type": "code",
      "source": [
        "model = Sequential() # 순차 모델인 model 생성\n",
        "model.add(SimpleRNN(3, input_shape=(1, look_back)))\n",
        "# RNN 기법 중 SimpleRNN 사용, 뉴런의 수는 3개, 입력 형태 설정\n",
        "model.add(Dense(1, activation=\"linear\"))\n",
        "model.compile(loss='mse', optimizer='adam') # 손실 함수는 mse(평균 제곱 오차), 옵티마이저는 adam\n",
        "model.summary()"
      ],
      "metadata": {
        "colab": {
          "base_uri": "https://localhost:8080/"
        },
        "id": "EapnzHv_0lf0",
        "outputId": "adeac69c-92e6-468b-fe8a-cc95dd21dc81"
      },
      "execution_count": 17,
      "outputs": [
        {
          "output_type": "stream",
          "name": "stdout",
          "text": [
            "Model: \"sequential_1\"\n",
            "_________________________________________________________________\n",
            " Layer (type)                Output Shape              Param #   \n",
            "=================================================================\n",
            " simple_rnn (SimpleRNN)      (None, 3)                 21        \n",
            "                                                                 \n",
            " dense (Dense)               (None, 1)                 4         \n",
            "                                                                 \n",
            "=================================================================\n",
            "Total params: 25\n",
            "Trainable params: 25\n",
            "Non-trainable params: 0\n",
            "_________________________________________________________________\n"
          ]
        }
      ]
    },
    {
      "cell_type": "markdown",
      "source": [
        "### Training the model"
      ],
      "metadata": {
        "id": "8A54BQca3Gx1"
      }
    },
    {
      "cell_type": "code",
      "source": [
        "model.fit(X_train, y_train, epochs=100, batch_size=1, verbose=1)"
      ],
      "metadata": {
        "colab": {
          "base_uri": "https://localhost:8080/"
        },
        "id": "Qwc3lhRG19Af",
        "outputId": "8a1eb429-40eb-4b7c-f50d-987358719ee0"
      },
      "execution_count": 20,
      "outputs": [
        {
          "output_type": "stream",
          "name": "stdout",
          "text": [
            "Epoch 1/100\n",
            "86/86 [==============================] - 1s 3ms/step - loss: 0.6418\n",
            "Epoch 2/100\n",
            "86/86 [==============================] - 0s 3ms/step - loss: 0.1511\n",
            "Epoch 3/100\n",
            "86/86 [==============================] - 0s 3ms/step - loss: 0.0510\n",
            "Epoch 4/100\n",
            "86/86 [==============================] - 0s 2ms/step - loss: 0.0350\n",
            "Epoch 5/100\n",
            "86/86 [==============================] - 0s 3ms/step - loss: 0.0267\n",
            "Epoch 6/100\n",
            "86/86 [==============================] - 0s 3ms/step - loss: 0.0198\n",
            "Epoch 7/100\n",
            "86/86 [==============================] - 0s 3ms/step - loss: 0.0144\n",
            "Epoch 8/100\n",
            "86/86 [==============================] - 0s 2ms/step - loss: 0.0098\n",
            "Epoch 9/100\n",
            "86/86 [==============================] - 0s 3ms/step - loss: 0.0067\n",
            "Epoch 10/100\n",
            "86/86 [==============================] - 0s 3ms/step - loss: 0.0044\n",
            "Epoch 11/100\n",
            "86/86 [==============================] - 0s 3ms/step - loss: 0.0028\n",
            "Epoch 12/100\n",
            "86/86 [==============================] - 0s 3ms/step - loss: 0.0018\n",
            "Epoch 13/100\n",
            "86/86 [==============================] - 0s 3ms/step - loss: 0.0012\n",
            "Epoch 14/100\n",
            "86/86 [==============================] - 0s 2ms/step - loss: 8.6177e-04\n",
            "Epoch 15/100\n",
            "86/86 [==============================] - 0s 2ms/step - loss: 6.6957e-04\n",
            "Epoch 16/100\n",
            "86/86 [==============================] - 0s 2ms/step - loss: 5.4608e-04\n",
            "Epoch 17/100\n",
            "86/86 [==============================] - 0s 2ms/step - loss: 4.9878e-04\n",
            "Epoch 18/100\n",
            "86/86 [==============================] - 0s 2ms/step - loss: 4.5776e-04\n",
            "Epoch 19/100\n",
            "86/86 [==============================] - 0s 2ms/step - loss: 4.4394e-04\n",
            "Epoch 20/100\n",
            "86/86 [==============================] - 0s 2ms/step - loss: 4.3454e-04\n",
            "Epoch 21/100\n",
            "86/86 [==============================] - 0s 2ms/step - loss: 4.2233e-04\n",
            "Epoch 22/100\n",
            "86/86 [==============================] - 0s 2ms/step - loss: 4.3188e-04\n",
            "Epoch 23/100\n",
            "86/86 [==============================] - 0s 2ms/step - loss: 4.1153e-04\n",
            "Epoch 24/100\n",
            "86/86 [==============================] - 0s 2ms/step - loss: 4.3068e-04\n",
            "Epoch 25/100\n",
            "86/86 [==============================] - 0s 2ms/step - loss: 4.2594e-04\n",
            "Epoch 26/100\n",
            "86/86 [==============================] - 0s 2ms/step - loss: 4.1363e-04\n",
            "Epoch 27/100\n",
            "86/86 [==============================] - 0s 2ms/step - loss: 3.9401e-04\n",
            "Epoch 28/100\n",
            "86/86 [==============================] - 0s 2ms/step - loss: 3.8057e-04\n",
            "Epoch 29/100\n",
            "86/86 [==============================] - 0s 2ms/step - loss: 3.8066e-04\n",
            "Epoch 30/100\n",
            "86/86 [==============================] - 0s 2ms/step - loss: 3.7763e-04\n",
            "Epoch 31/100\n",
            "86/86 [==============================] - 0s 2ms/step - loss: 3.6583e-04\n",
            "Epoch 32/100\n",
            "86/86 [==============================] - 0s 2ms/step - loss: 3.5297e-04\n",
            "Epoch 33/100\n",
            "86/86 [==============================] - 0s 2ms/step - loss: 3.5150e-04\n",
            "Epoch 34/100\n",
            "86/86 [==============================] - 0s 2ms/step - loss: 3.6632e-04\n",
            "Epoch 35/100\n",
            "86/86 [==============================] - 0s 2ms/step - loss: 3.3026e-04\n",
            "Epoch 36/100\n",
            "86/86 [==============================] - 0s 2ms/step - loss: 3.3734e-04\n",
            "Epoch 37/100\n",
            "86/86 [==============================] - 0s 2ms/step - loss: 3.2415e-04\n",
            "Epoch 38/100\n",
            "86/86 [==============================] - 0s 2ms/step - loss: 3.1160e-04\n",
            "Epoch 39/100\n",
            "86/86 [==============================] - 0s 2ms/step - loss: 3.2880e-04\n",
            "Epoch 40/100\n",
            "86/86 [==============================] - 0s 2ms/step - loss: 3.0999e-04\n",
            "Epoch 41/100\n",
            "86/86 [==============================] - 0s 2ms/step - loss: 3.0487e-04\n",
            "Epoch 42/100\n",
            "86/86 [==============================] - 0s 2ms/step - loss: 2.7523e-04\n",
            "Epoch 43/100\n",
            "86/86 [==============================] - 0s 2ms/step - loss: 2.7294e-04\n",
            "Epoch 44/100\n",
            "86/86 [==============================] - 0s 2ms/step - loss: 2.8459e-04\n",
            "Epoch 45/100\n",
            "86/86 [==============================] - 0s 2ms/step - loss: 2.8647e-04\n",
            "Epoch 46/100\n",
            "86/86 [==============================] - 0s 2ms/step - loss: 2.6343e-04\n",
            "Epoch 47/100\n",
            "86/86 [==============================] - 0s 2ms/step - loss: 2.5833e-04\n",
            "Epoch 48/100\n",
            "86/86 [==============================] - 0s 2ms/step - loss: 2.4540e-04\n",
            "Epoch 49/100\n",
            "86/86 [==============================] - 0s 2ms/step - loss: 2.3731e-04\n",
            "Epoch 50/100\n",
            "86/86 [==============================] - 0s 2ms/step - loss: 2.4497e-04\n",
            "Epoch 51/100\n",
            "86/86 [==============================] - 0s 2ms/step - loss: 2.4496e-04\n",
            "Epoch 52/100\n",
            "86/86 [==============================] - 0s 2ms/step - loss: 2.2377e-04\n",
            "Epoch 53/100\n",
            "86/86 [==============================] - 0s 2ms/step - loss: 2.1587e-04\n",
            "Epoch 54/100\n",
            "86/86 [==============================] - 0s 2ms/step - loss: 2.2384e-04\n",
            "Epoch 55/100\n",
            "86/86 [==============================] - 0s 2ms/step - loss: 2.1124e-04\n",
            "Epoch 56/100\n",
            "86/86 [==============================] - 0s 2ms/step - loss: 2.0221e-04\n",
            "Epoch 57/100\n",
            "86/86 [==============================] - 0s 2ms/step - loss: 2.0162e-04\n",
            "Epoch 58/100\n",
            "86/86 [==============================] - 0s 2ms/step - loss: 2.0415e-04\n",
            "Epoch 59/100\n",
            "86/86 [==============================] - 0s 2ms/step - loss: 1.8903e-04\n",
            "Epoch 60/100\n",
            "86/86 [==============================] - 0s 2ms/step - loss: 2.0827e-04\n",
            "Epoch 61/100\n",
            "86/86 [==============================] - 0s 2ms/step - loss: 1.7789e-04\n",
            "Epoch 62/100\n",
            "86/86 [==============================] - 0s 2ms/step - loss: 1.6341e-04\n",
            "Epoch 63/100\n",
            "86/86 [==============================] - 0s 2ms/step - loss: 1.7293e-04\n",
            "Epoch 64/100\n",
            "86/86 [==============================] - 0s 2ms/step - loss: 1.6194e-04\n",
            "Epoch 65/100\n",
            "86/86 [==============================] - 0s 2ms/step - loss: 1.7615e-04\n",
            "Epoch 66/100\n",
            "86/86 [==============================] - 0s 2ms/step - loss: 1.6047e-04\n",
            "Epoch 67/100\n",
            "86/86 [==============================] - 0s 2ms/step - loss: 1.5679e-04\n",
            "Epoch 68/100\n",
            "86/86 [==============================] - 0s 2ms/step - loss: 1.5773e-04\n",
            "Epoch 69/100\n",
            "86/86 [==============================] - 0s 2ms/step - loss: 1.3947e-04\n",
            "Epoch 70/100\n",
            "86/86 [==============================] - 0s 2ms/step - loss: 1.4110e-04\n",
            "Epoch 71/100\n",
            "86/86 [==============================] - 0s 2ms/step - loss: 1.6416e-04\n",
            "Epoch 72/100\n",
            "86/86 [==============================] - 0s 3ms/step - loss: 1.4313e-04\n",
            "Epoch 73/100\n",
            "86/86 [==============================] - 0s 3ms/step - loss: 1.4081e-04\n",
            "Epoch 74/100\n",
            "86/86 [==============================] - 0s 3ms/step - loss: 1.2485e-04\n",
            "Epoch 75/100\n",
            "86/86 [==============================] - 0s 3ms/step - loss: 1.2470e-04\n",
            "Epoch 76/100\n",
            "86/86 [==============================] - 0s 3ms/step - loss: 1.3431e-04\n",
            "Epoch 77/100\n",
            "86/86 [==============================] - 0s 3ms/step - loss: 1.3485e-04\n",
            "Epoch 78/100\n",
            "86/86 [==============================] - 0s 3ms/step - loss: 1.5630e-04\n",
            "Epoch 79/100\n",
            "86/86 [==============================] - 0s 3ms/step - loss: 1.1721e-04\n",
            "Epoch 80/100\n",
            "86/86 [==============================] - 0s 3ms/step - loss: 1.1592e-04\n",
            "Epoch 81/100\n",
            "86/86 [==============================] - 0s 3ms/step - loss: 1.1294e-04\n",
            "Epoch 82/100\n",
            "86/86 [==============================] - 0s 3ms/step - loss: 1.1263e-04\n",
            "Epoch 83/100\n",
            "86/86 [==============================] - 0s 3ms/step - loss: 1.0994e-04\n",
            "Epoch 84/100\n",
            "86/86 [==============================] - 0s 2ms/step - loss: 1.0174e-04\n",
            "Epoch 85/100\n",
            "86/86 [==============================] - 0s 2ms/step - loss: 9.2794e-05\n",
            "Epoch 86/100\n",
            "86/86 [==============================] - 0s 2ms/step - loss: 1.0966e-04\n",
            "Epoch 87/100\n",
            "86/86 [==============================] - 0s 2ms/step - loss: 1.0556e-04\n",
            "Epoch 88/100\n",
            "86/86 [==============================] - 0s 2ms/step - loss: 1.1056e-04\n",
            "Epoch 89/100\n",
            "86/86 [==============================] - 0s 2ms/step - loss: 9.3152e-05\n",
            "Epoch 90/100\n",
            "86/86 [==============================] - 0s 2ms/step - loss: 9.8025e-05\n",
            "Epoch 91/100\n",
            "86/86 [==============================] - 0s 2ms/step - loss: 8.5233e-05\n",
            "Epoch 92/100\n",
            "86/86 [==============================] - 0s 2ms/step - loss: 9.6339e-05\n",
            "Epoch 93/100\n",
            "86/86 [==============================] - 0s 2ms/step - loss: 1.3090e-04\n",
            "Epoch 94/100\n",
            "86/86 [==============================] - 0s 2ms/step - loss: 1.1007e-04\n",
            "Epoch 95/100\n",
            "86/86 [==============================] - 0s 2ms/step - loss: 1.0419e-04\n",
            "Epoch 96/100\n",
            "86/86 [==============================] - 0s 2ms/step - loss: 9.7540e-05\n",
            "Epoch 97/100\n",
            "86/86 [==============================] - 0s 2ms/step - loss: 8.0641e-05\n",
            "Epoch 98/100\n",
            "86/86 [==============================] - 0s 2ms/step - loss: 9.4591e-05\n",
            "Epoch 99/100\n",
            "86/86 [==============================] - 0s 2ms/step - loss: 8.2176e-05\n",
            "Epoch 100/100\n",
            "86/86 [==============================] - 0s 2ms/step - loss: 9.2955e-05\n"
          ]
        },
        {
          "output_type": "execute_result",
          "data": {
            "text/plain": [
              "<keras.callbacks.History at 0x7f54542bb280>"
            ]
          },
          "metadata": {},
          "execution_count": 20
        }
      ]
    },
    {
      "cell_type": "markdown",
      "source": [
        "### Predict the data"
      ],
      "metadata": {
        "id": "WshR95aR3tHs"
      }
    },
    {
      "cell_type": "code",
      "source": [
        "trainPredict = model.predict(X_train)\n",
        "testPredict = model.predict(X_test)\n",
        "TrainPredict = scaler.inverse_transform(trainPredict)\n",
        "Y_train = scaler.inverse_transform([y_train])\n",
        "TestPredict = scaler.inverse_transform(testPredict)\n",
        "Y_test = scaler.inverse_transform([y_test])"
      ],
      "metadata": {
        "colab": {
          "base_uri": "https://localhost:8080/"
        },
        "id": "bjJbx7ec3Sz9",
        "outputId": "ae2644b6-82d9-4018-be8e-262fdc7067a9"
      },
      "execution_count": 21,
      "outputs": [
        {
          "output_type": "stream",
          "name": "stdout",
          "text": [
            "3/3 [==============================] - 1s 13ms/step\n",
            "1/1 [==============================] - 0s 45ms/step\n"
          ]
        }
      ]
    },
    {
      "cell_type": "markdown",
      "source": [
        "### Accuracy of the model"
      ],
      "metadata": {
        "id": "UuXuO4BR4qRR"
      }
    },
    {
      "cell_type": "code",
      "source": [
        "trainScore = math.sqrt(mean_squared_error(Y_train[0], TrainPredict[:,0]))\n",
        "print(f'Train Score is{trainScore: .2f} RMSE')\n",
        "\n",
        "testScore = math.sqrt(mean_squared_error(Y_test[0], TestPredict[:,0]))\n",
        "print(f'Test Score is{testScore: .2f} RMSE')"
      ],
      "metadata": {
        "colab": {
          "base_uri": "https://localhost:8080/"
        },
        "id": "wjWMnCfZ4eds",
        "outputId": "f58f03f1-e98f-4f0e-9a8d-f22c87b527cf"
      },
      "execution_count": 28,
      "outputs": [
        {
          "output_type": "stream",
          "name": "stdout",
          "text": [
            "Train Score is 117.77 RMSE\n",
            "Test Score is 22.88 RMSE\n"
          ]
        }
      ]
    },
    {
      "cell_type": "markdown",
      "source": [
        "### Result Plot"
      ],
      "metadata": {
        "id": "0xk3Lqo55cWd"
      }
    },
    {
      "cell_type": "code",
      "source": [
        "trainPredictPlot = np.empty_like(dataset)\n",
        "trainPredictPlot[:, :] = np.nan\n",
        "trainPredictPlot[look_back:len(TrainPredict)+look_back, :] = TrainPredict\n",
        "testPredictPlot = np.empty_like(dataset)\n",
        "testPredictPlot[:, :] = np.nan\n",
        "testPredictPlot[len(TrainPredict)+(look_back)*2:len(dataset), :] = TestPredict\n",
        "plt.plot(dataset)\n",
        "plt.plot(trainPredictPlot)\n",
        "plt.plot(testPredictPlot)\n",
        "plt.show()\n"
      ],
      "metadata": {
        "colab": {
          "base_uri": "https://localhost:8080/",
          "height": 430
        },
        "id": "8WO5a0HM5LCU",
        "outputId": "d30dd161-1e01-4966-c0df-a4382a94845c"
      },
      "execution_count": 30,
      "outputs": [
        {
          "output_type": "display_data",
          "data": {
            "text/plain": [
              "<Figure size 640x480 with 1 Axes>"
            ],
            "image/png": "[encoded data removed]"
          },
          "metadata": {}
        }
      ]
    },
    {
      "cell_type": "code",
      "source": [],
      "metadata": {
        "id": "G71hx5MW6FH1"
      },
      "execution_count": null,
      "outputs": []
    }
  ]
}