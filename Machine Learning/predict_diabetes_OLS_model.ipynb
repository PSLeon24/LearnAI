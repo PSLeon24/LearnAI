{
  "nbformat": 4,
  "nbformat_minor": 0,
  "metadata": {
    "colab": {
      "provenance": [],
      "authorship_tag": "ABX9TyNVOMXNXrpyBk5sByZicqKP",
      "include_colab_link": true
    },
    "kernelspec": {
      "name": "python3",
      "display_name": "Python 3"
    },
    "language_info": {
      "name": "python"
    }
  },
  "cells": [
    {
      "cell_type": "markdown",
      "metadata": {
        "id": "view-in-github",
        "colab_type": "text"
      },
      "source": [
        "<a href=\"https://colab.research.google.com/github/PSLeon24/LearnAI/blob/main/predict_diabetes_OLS_model.ipynb\" target=\"_parent\"><img src=\"https://colab.research.google.com/assets/colab-badge.svg\" alt=\"Open In Colab\"/></a>"
      ]
    },
    {
      "cell_type": "code",
      "execution_count": 18,
      "metadata": {
        "colab": {
          "base_uri": "https://localhost:8080/"
        },
        "id": "wX6MfCkV-4E_",
        "outputId": "08d3a196-fc65-4c36-8fcb-b2a27cc4f8fe"
      },
      "outputs": [
        {
          "output_type": "stream",
          "name": "stdout",
          "text": [
            "학습 데이터셋 MAE:  43.549\n",
            "학습 데이터셋 MAE:  42.618\n"
          ]
        }
      ],
      "source": [
        "import numpy as np\n",
        "from sklearn.datasets import load_diabetes\n",
        "from sklearn.model_selection import train_test_split\n",
        "\n",
        "X, y = load_diabetes(return_X_y=True)\n",
        "\n",
        "X_train, X_test, y_train, y_test = train_test_split(X,\n",
        "                                                    y,\n",
        "                                                    test_size=0.33,\n",
        "                                                    random_state=1234)\n",
        "\n",
        "y_train = y_train.reshape(-1, 1) # 두 번째 차원을 1이 되도록 설정\n",
        "y_test = y_test.reshape(-1 ,1)\n",
        "\n",
        "n_train, n_test = X_train.shape[0], X_test.shape[0]\n",
        "\n",
        "X_train = np.append(np.ones((n_train, 1)), X_train, axis=1) # 절편(bias) 추가\n",
        "w = np.linalg.inv(X_train.T @ X_train) @ X_train.T @ y_train\n",
        "# inv: 역행렬\n",
        "# 정규방정식: (X^TX)^-1 @ X^T @ y\n",
        "\n",
        "y_pred_train = X_train @ w\n",
        "print(f'학습 데이터셋 MAE: {np.abs(y_pred_train - y_train).mean(): .3f}')\n",
        "\n",
        "X_test = np.append(np.ones((n_test, 1)), X_test, axis=1)\n",
        "y_pred = X_test @ w\n",
        "print(f'학습 데이터셋 MAE: {np.abs(y_pred - y_test).mean(): .3f}')"
      ]
    },
    {
      "cell_type": "code",
      "source": [
        "zzz = np.arange(1, 11)\n",
        "zzz.reshape(-1, 1)"
      ],
      "metadata": {
        "colab": {
          "base_uri": "https://localhost:8080/"
        },
        "id": "-GTCGgExBIMy",
        "outputId": "e441d3eb-1370-434f-f1fd-370b2e9ce2ab"
      },
      "execution_count": 20,
      "outputs": [
        {
          "output_type": "execute_result",
          "data": {
            "text/plain": [
              "array([[ 1],\n",
              "       [ 2],\n",
              "       [ 3],\n",
              "       [ 4],\n",
              "       [ 5],\n",
              "       [ 6],\n",
              "       [ 7],\n",
              "       [ 8],\n",
              "       [ 9],\n",
              "       [10]])"
            ]
          },
          "metadata": {},
          "execution_count": 20
        }
      ]
    },
    {
      "cell_type": "code",
      "source": [],
      "metadata": {
        "id": "qeBCBexQ_LVR"
      },
      "execution_count": null,
      "outputs": []
    }
  ]
}