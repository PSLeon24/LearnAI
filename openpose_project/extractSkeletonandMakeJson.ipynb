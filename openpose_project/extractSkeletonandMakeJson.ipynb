{
 "cells": [
  {
   "cell_type": "markdown",
   "metadata": {},
   "source": [
    "# Make directories"
   ]
  },
  {
   "cell_type": "code",
   "execution_count": 4,
   "metadata": {},
   "outputs": [
    {
     "name": "stdout",
     "output_type": "stream",
     "text": [
      "mkdir -p output_for_multimodal_with_skeleton/staccato/amateur/staccato_amateur/staccato_amateur1/csv; mkdir -p output_for_multimodal_with_skeleton/staccato/amateur/staccato_amateur/staccato_amateur1/graph; mkdir -p output_for_multimodal_with_skeleton/staccato/amateur/staccato_amateur/staccato_amateur1/image; mkdir -p output_for_multimodal_with_skeleton/staccato/amateur/staccato_amateur/staccato_amateur1/json; mkdir -p output_for_multimodal_with_skeleton/staccato/amateur/staccato_amateur/staccato_amateur1/video;mkdir -p output_for_multimodal_with_skeleton/staccato/amateur/staccato_amateur/staccato_amateur2/csv; mkdir -p output_for_multimodal_with_skeleton/staccato/amateur/staccato_amateur/staccato_amateur2/graph; mkdir -p output_for_multimodal_with_skeleton/staccato/amateur/staccato_amateur/staccato_amateur2/image; mkdir -p output_for_multimodal_with_skeleton/staccato/amateur/staccato_amateur/staccato_amateur2/json; mkdir -p output_for_multimodal_with_skeleton/staccato/amateur/staccato_amateur/staccato_amateur2/video;mkdir -p output_for_multimodal_with_skeleton/staccato/amateur/staccato_amateur/staccato_amateur3/csv; mkdir -p output_for_multimodal_with_skeleton/staccato/amateur/staccato_amateur/staccato_amateur3/graph; mkdir -p output_for_multimodal_with_skeleton/staccato/amateur/staccato_amateur/staccato_amateur3/image; mkdir -p output_for_multimodal_with_skeleton/staccato/amateur/staccato_amateur/staccato_amateur3/json; mkdir -p output_for_multimodal_with_skeleton/staccato/amateur/staccato_amateur/staccato_amateur3/video;mkdir -p output_for_multimodal_with_skeleton/staccato/amateur/staccato_amateur/staccato_amateur4/csv; mkdir -p output_for_multimodal_with_skeleton/staccato/amateur/staccato_amateur/staccato_amateur4/graph; mkdir -p output_for_multimodal_with_skeleton/staccato/amateur/staccato_amateur/staccato_amateur4/image; mkdir -p output_for_multimodal_with_skeleton/staccato/amateur/staccato_amateur/staccato_amateur4/json; mkdir -p output_for_multimodal_with_skeleton/staccato/amateur/staccato_amateur/staccato_amateur4/video;mkdir -p output_for_multimodal_with_skeleton/staccato/amateur/staccato_amateur/staccato_amateur5/csv; mkdir -p output_for_multimodal_with_skeleton/staccato/amateur/staccato_amateur/staccato_amateur5/graph; mkdir -p output_for_multimodal_with_skeleton/staccato/amateur/staccato_amateur/staccato_amateur5/image; mkdir -p output_for_multimodal_with_skeleton/staccato/amateur/staccato_amateur/staccato_amateur5/json; mkdir -p output_for_multimodal_with_skeleton/staccato/amateur/staccato_amateur/staccato_amateur5/video;mkdir -p output_for_multimodal_with_skeleton/staccato/amateur/staccato_amateur/staccato_amateur6/csv; mkdir -p output_for_multimodal_with_skeleton/staccato/amateur/staccato_amateur/staccato_amateur6/graph; mkdir -p output_for_multimodal_with_skeleton/staccato/amateur/staccato_amateur/staccato_amateur6/image; mkdir -p output_for_multimodal_with_skeleton/staccato/amateur/staccato_amateur/staccato_amateur6/json; mkdir -p output_for_multimodal_with_skeleton/staccato/amateur/staccato_amateur/staccato_amateur6/video;mkdir -p output_for_multimodal_with_skeleton/staccato/amateur/staccato_amateur/staccato_amateur7/csv; mkdir -p output_for_multimodal_with_skeleton/staccato/amateur/staccato_amateur/staccato_amateur7/graph; mkdir -p output_for_multimodal_with_skeleton/staccato/amateur/staccato_amateur/staccato_amateur7/image; mkdir -p output_for_multimodal_with_skeleton/staccato/amateur/staccato_amateur/staccato_amateur7/json; mkdir -p output_for_multimodal_with_skeleton/staccato/amateur/staccato_amateur/staccato_amateur7/video;mkdir -p output_for_multimodal_with_skeleton/staccato/amateur/staccato_amateur/staccato_amateur8/csv; mkdir -p output_for_multimodal_with_skeleton/staccato/amateur/staccato_amateur/staccato_amateur8/graph; mkdir -p output_for_multimodal_with_skeleton/staccato/amateur/staccato_amateur/staccato_amateur8/image; mkdir -p output_for_multimodal_with_skeleton/staccato/amateur/staccato_amateur/staccato_amateur8/json; mkdir -p output_for_multimodal_with_skeleton/staccato/amateur/staccato_amateur/staccato_amateur8/video;mkdir -p output_for_multimodal_with_skeleton/staccato/amateur/staccato_amateur/staccato_amateur9/csv; mkdir -p output_for_multimodal_with_skeleton/staccato/amateur/staccato_amateur/staccato_amateur9/graph; mkdir -p output_for_multimodal_with_skeleton/staccato/amateur/staccato_amateur/staccato_amateur9/image; mkdir -p output_for_multimodal_with_skeleton/staccato/amateur/staccato_amateur/staccato_amateur9/json; mkdir -p output_for_multimodal_with_skeleton/staccato/amateur/staccato_amateur/staccato_amateur9/video;mkdir -p output_for_multimodal_with_skeleton/staccato/amateur/staccato_amateur/staccato_amateur10/csv; mkdir -p output_for_multimodal_with_skeleton/staccato/amateur/staccato_amateur/staccato_amateur10/graph; mkdir -p output_for_multimodal_with_skeleton/staccato/amateur/staccato_amateur/staccato_amateur10/image; mkdir -p output_for_multimodal_with_skeleton/staccato/amateur/staccato_amateur/staccato_amateur10/json; mkdir -p output_for_multimodal_with_skeleton/staccato/amateur/staccato_amateur/staccato_amateur10/video;mkdir -p output_for_multimodal_with_skeleton/staccato/amateur/staccato_amateur/staccato_amateur11/csv; mkdir -p output_for_multimodal_with_skeleton/staccato/amateur/staccato_amateur/staccato_amateur11/graph; mkdir -p output_for_multimodal_with_skeleton/staccato/amateur/staccato_amateur/staccato_amateur11/image; mkdir -p output_for_multimodal_with_skeleton/staccato/amateur/staccato_amateur/staccato_amateur11/json; mkdir -p output_for_multimodal_with_skeleton/staccato/amateur/staccato_amateur/staccato_amateur11/video;mkdir -p output_for_multimodal_with_skeleton/staccato/amateur/staccato_amateur/staccato_amateur12/csv; mkdir -p output_for_multimodal_with_skeleton/staccato/amateur/staccato_amateur/staccato_amateur12/graph; mkdir -p output_for_multimodal_with_skeleton/staccato/amateur/staccato_amateur/staccato_amateur12/image; mkdir -p output_for_multimodal_with_skeleton/staccato/amateur/staccato_amateur/staccato_amateur12/json; mkdir -p output_for_multimodal_with_skeleton/staccato/amateur/staccato_amateur/staccato_amateur12/video;mkdir -p output_for_multimodal_with_skeleton/staccato/amateur/staccato_amateur/staccato_amateur13/csv; mkdir -p output_for_multimodal_with_skeleton/staccato/amateur/staccato_amateur/staccato_amateur13/graph; mkdir -p output_for_multimodal_with_skeleton/staccato/amateur/staccato_amateur/staccato_amateur13/image; mkdir -p output_for_multimodal_with_skeleton/staccato/amateur/staccato_amateur/staccato_amateur13/json; mkdir -p output_for_multimodal_with_skeleton/staccato/amateur/staccato_amateur/staccato_amateur13/video;mkdir -p output_for_multimodal_with_skeleton/staccato/amateur/staccato_amateur/staccato_amateur14/csv; mkdir -p output_for_multimodal_with_skeleton/staccato/amateur/staccato_amateur/staccato_amateur14/graph; mkdir -p output_for_multimodal_with_skeleton/staccato/amateur/staccato_amateur/staccato_amateur14/image; mkdir -p output_for_multimodal_with_skeleton/staccato/amateur/staccato_amateur/staccato_amateur14/json; mkdir -p output_for_multimodal_with_skeleton/staccato/amateur/staccato_amateur/staccato_amateur14/video;mkdir -p output_for_multimodal_with_skeleton/staccato/amateur/staccato_amateur/staccato_amateur15/csv; mkdir -p output_for_multimodal_with_skeleton/staccato/amateur/staccato_amateur/staccato_amateur15/graph; mkdir -p output_for_multimodal_with_skeleton/staccato/amateur/staccato_amateur/staccato_amateur15/image; mkdir -p output_for_multimodal_with_skeleton/staccato/amateur/staccato_amateur/staccato_amateur15/json; mkdir -p output_for_multimodal_with_skeleton/staccato/amateur/staccato_amateur/staccato_amateur15/video;mkdir -p output_for_multimodal_with_skeleton/staccato/amateur/staccato_amateur/staccato_amateur16/csv; mkdir -p output_for_multimodal_with_skeleton/staccato/amateur/staccato_amateur/staccato_amateur16/graph; mkdir -p output_for_multimodal_with_skeleton/staccato/amateur/staccato_amateur/staccato_amateur16/image; mkdir -p output_for_multimodal_with_skeleton/staccato/amateur/staccato_amateur/staccato_amateur16/json; mkdir -p output_for_multimodal_with_skeleton/staccato/amateur/staccato_amateur/staccato_amateur16/video;mkdir -p output_for_multimodal_with_skeleton/staccato/amateur/staccato_amateur/staccato_amateur17/csv; mkdir -p output_for_multimodal_with_skeleton/staccato/amateur/staccato_amateur/staccato_amateur17/graph; mkdir -p output_for_multimodal_with_skeleton/staccato/amateur/staccato_amateur/staccato_amateur17/image; mkdir -p output_for_multimodal_with_skeleton/staccato/amateur/staccato_amateur/staccato_amateur17/json; mkdir -p output_for_multimodal_with_skeleton/staccato/amateur/staccato_amateur/staccato_amateur17/video;mkdir -p output_for_multimodal_with_skeleton/staccato/amateur/staccato_amateur/staccato_amateur18/csv; mkdir -p output_for_multimodal_with_skeleton/staccato/amateur/staccato_amateur/staccato_amateur18/graph; mkdir -p output_for_multimodal_with_skeleton/staccato/amateur/staccato_amateur/staccato_amateur18/image; mkdir -p output_for_multimodal_with_skeleton/staccato/amateur/staccato_amateur/staccato_amateur18/json; mkdir -p output_for_multimodal_with_skeleton/staccato/amateur/staccato_amateur/staccato_amateur18/video;mkdir -p output_for_multimodal_with_skeleton/staccato/amateur/staccato_amateur/staccato_amateur19/csv; mkdir -p output_for_multimodal_with_skeleton/staccato/amateur/staccato_amateur/staccato_amateur19/graph; mkdir -p output_for_multimodal_with_skeleton/staccato/amateur/staccato_amateur/staccato_amateur19/image; mkdir -p output_for_multimodal_with_skeleton/staccato/amateur/staccato_amateur/staccato_amateur19/json; mkdir -p output_for_multimodal_with_skeleton/staccato/amateur/staccato_amateur/staccato_amateur19/video;mkdir -p output_for_multimodal_with_skeleton/staccato/amateur/staccato_amateur/staccato_amateur20/csv; mkdir -p output_for_multimodal_with_skeleton/staccato/amateur/staccato_amateur/staccato_amateur20/graph; mkdir -p output_for_multimodal_with_skeleton/staccato/amateur/staccato_amateur/staccato_amateur20/image; mkdir -p output_for_multimodal_with_skeleton/staccato/amateur/staccato_amateur/staccato_amateur20/json; mkdir -p output_for_multimodal_with_skeleton/staccato/amateur/staccato_amateur/staccato_amateur20/video;mkdir -p output_for_multimodal_with_skeleton/staccato/amateur/staccato_amateur/staccato_amateur21/csv; mkdir -p output_for_multimodal_with_skeleton/staccato/amateur/staccato_amateur/staccato_amateur21/graph; mkdir -p output_for_multimodal_with_skeleton/staccato/amateur/staccato_amateur/staccato_amateur21/image; mkdir -p output_for_multimodal_with_skeleton/staccato/amateur/staccato_amateur/staccato_amateur21/json; mkdir -p output_for_multimodal_with_skeleton/staccato/amateur/staccato_amateur/staccato_amateur21/video;mkdir -p output_for_multimodal_with_skeleton/staccato/amateur/staccato_amateur/staccato_amateur22/csv; mkdir -p output_for_multimodal_with_skeleton/staccato/amateur/staccato_amateur/staccato_amateur22/graph; mkdir -p output_for_multimodal_with_skeleton/staccato/amateur/staccato_amateur/staccato_amateur22/image; mkdir -p output_for_multimodal_with_skeleton/staccato/amateur/staccato_amateur/staccato_amateur22/json; mkdir -p output_for_multimodal_with_skeleton/staccato/amateur/staccato_amateur/staccato_amateur22/video;mkdir -p output_for_multimodal_with_skeleton/staccato/amateur/staccato_amateur/staccato_amateur23/csv; mkdir -p output_for_multimodal_with_skeleton/staccato/amateur/staccato_amateur/staccato_amateur23/graph; mkdir -p output_for_multimodal_with_skeleton/staccato/amateur/staccato_amateur/staccato_amateur23/image; mkdir -p output_for_multimodal_with_skeleton/staccato/amateur/staccato_amateur/staccato_amateur23/json; mkdir -p output_for_multimodal_with_skeleton/staccato/amateur/staccato_amateur/staccato_amateur23/video;mkdir -p output_for_multimodal_with_skeleton/staccato/amateur/staccato_amateur/staccato_amateur24/csv; mkdir -p output_for_multimodal_with_skeleton/staccato/amateur/staccato_amateur/staccato_amateur24/graph; mkdir -p output_for_multimodal_with_skeleton/staccato/amateur/staccato_amateur/staccato_amateur24/image; mkdir -p output_for_multimodal_with_skeleton/staccato/amateur/staccato_amateur/staccato_amateur24/json; mkdir -p output_for_multimodal_with_skeleton/staccato/amateur/staccato_amateur/staccato_amateur24/video;mkdir -p output_for_multimodal_with_skeleton/staccato/amateur/staccato_amateur/staccato_amateur25/csv; mkdir -p output_for_multimodal_with_skeleton/staccato/amateur/staccato_amateur/staccato_amateur25/graph; mkdir -p output_for_multimodal_with_skeleton/staccato/amateur/staccato_amateur/staccato_amateur25/image; mkdir -p output_for_multimodal_with_skeleton/staccato/amateur/staccato_amateur/staccato_amateur25/json; mkdir -p output_for_multimodal_with_skeleton/staccato/amateur/staccato_amateur/staccato_amateur25/video;mkdir -p output_for_multimodal_with_skeleton/staccato/amateur/staccato_amateur/staccato_amateur26/csv; mkdir -p output_for_multimodal_with_skeleton/staccato/amateur/staccato_amateur/staccato_amateur26/graph; mkdir -p output_for_multimodal_with_skeleton/staccato/amateur/staccato_amateur/staccato_amateur26/image; mkdir -p output_for_multimodal_with_skeleton/staccato/amateur/staccato_amateur/staccato_amateur26/json; mkdir -p output_for_multimodal_with_skeleton/staccato/amateur/staccato_amateur/staccato_amateur26/video;mkdir -p output_for_multimodal_with_skeleton/staccato/amateur/staccato_amateur/staccato_amateur27/csv; mkdir -p output_for_multimodal_with_skeleton/staccato/amateur/staccato_amateur/staccato_amateur27/graph; mkdir -p output_for_multimodal_with_skeleton/staccato/amateur/staccato_amateur/staccato_amateur27/image; mkdir -p output_for_multimodal_with_skeleton/staccato/amateur/staccato_amateur/staccato_amateur27/json; mkdir -p output_for_multimodal_with_skeleton/staccato/amateur/staccato_amateur/staccato_amateur27/video;mkdir -p output_for_multimodal_with_skeleton/staccato/amateur/staccato_amateur/staccato_amateur28/csv; mkdir -p output_for_multimodal_with_skeleton/staccato/amateur/staccato_amateur/staccato_amateur28/graph; mkdir -p output_for_multimodal_with_skeleton/staccato/amateur/staccato_amateur/staccato_amateur28/image; mkdir -p output_for_multimodal_with_skeleton/staccato/amateur/staccato_amateur/staccato_amateur28/json; mkdir -p output_for_multimodal_with_skeleton/staccato/amateur/staccato_amateur/staccato_amateur28/video;mkdir -p output_for_multimodal_with_skeleton/staccato/amateur/staccato_amateur/staccato_amateur29/csv; mkdir -p output_for_multimodal_with_skeleton/staccato/amateur/staccato_amateur/staccato_amateur29/graph; mkdir -p output_for_multimodal_with_skeleton/staccato/amateur/staccato_amateur/staccato_amateur29/image; mkdir -p output_for_multimodal_with_skeleton/staccato/amateur/staccato_amateur/staccato_amateur29/json; mkdir -p output_for_multimodal_with_skeleton/staccato/amateur/staccato_amateur/staccato_amateur29/video;mkdir -p output_for_multimodal_with_skeleton/staccato/amateur/staccato_amateur/staccato_amateur30/csv; mkdir -p output_for_multimodal_with_skeleton/staccato/amateur/staccato_amateur/staccato_amateur30/graph; mkdir -p output_for_multimodal_with_skeleton/staccato/amateur/staccato_amateur/staccato_amateur30/image; mkdir -p output_for_multimodal_with_skeleton/staccato/amateur/staccato_amateur/staccato_amateur30/json; mkdir -p output_for_multimodal_with_skeleton/staccato/amateur/staccato_amateur/staccato_amateur30/video;mkdir -p output_for_multimodal_with_skeleton/staccato/amateur/staccato_amateur/staccato_amateur31/csv; mkdir -p output_for_multimodal_with_skeleton/staccato/amateur/staccato_amateur/staccato_amateur31/graph; mkdir -p output_for_multimodal_with_skeleton/staccato/amateur/staccato_amateur/staccato_amateur31/image; mkdir -p output_for_multimodal_with_skeleton/staccato/amateur/staccato_amateur/staccato_amateur31/json; mkdir -p output_for_multimodal_with_skeleton/staccato/amateur/staccato_amateur/staccato_amateur31/video;mkdir -p output_for_multimodal_with_skeleton/staccato/amateur/staccato_amateur/staccato_amateur32/csv; mkdir -p output_for_multimodal_with_skeleton/staccato/amateur/staccato_amateur/staccato_amateur32/graph; mkdir -p output_for_multimodal_with_skeleton/staccato/amateur/staccato_amateur/staccato_amateur32/image; mkdir -p output_for_multimodal_with_skeleton/staccato/amateur/staccato_amateur/staccato_amateur32/json; mkdir -p output_for_multimodal_with_skeleton/staccato/amateur/staccato_amateur/staccato_amateur32/video;mkdir -p output_for_multimodal_with_skeleton/staccato/amateur/staccato_amateur/staccato_amateur33/csv; mkdir -p output_for_multimodal_with_skeleton/staccato/amateur/staccato_amateur/staccato_amateur33/graph; mkdir -p output_for_multimodal_with_skeleton/staccato/amateur/staccato_amateur/staccato_amateur33/image; mkdir -p output_for_multimodal_with_skeleton/staccato/amateur/staccato_amateur/staccato_amateur33/json; mkdir -p output_for_multimodal_with_skeleton/staccato/amateur/staccato_amateur/staccato_amateur33/video;mkdir -p output_for_multimodal_with_skeleton/staccato/amateur/staccato_amateur/staccato_amateur34/csv; mkdir -p output_for_multimodal_with_skeleton/staccato/amateur/staccato_amateur/staccato_amateur34/graph; mkdir -p output_for_multimodal_with_skeleton/staccato/amateur/staccato_amateur/staccato_amateur34/image; mkdir -p output_for_multimodal_with_skeleton/staccato/amateur/staccato_amateur/staccato_amateur34/json; mkdir -p output_for_multimodal_with_skeleton/staccato/amateur/staccato_amateur/staccato_amateur34/video;mkdir -p output_for_multimodal_with_skeleton/staccato/amateur/staccato_amateur/staccato_amateur35/csv; mkdir -p output_for_multimodal_with_skeleton/staccato/amateur/staccato_amateur/staccato_amateur35/graph; mkdir -p output_for_multimodal_with_skeleton/staccato/amateur/staccato_amateur/staccato_amateur35/image; mkdir -p output_for_multimodal_with_skeleton/staccato/amateur/staccato_amateur/staccato_amateur35/json; mkdir -p output_for_multimodal_with_skeleton/staccato/amateur/staccato_amateur/staccato_amateur35/video;mkdir -p output_for_multimodal_with_skeleton/staccato/amateur/staccato_amateur/staccato_amateur36/csv; mkdir -p output_for_multimodal_with_skeleton/staccato/amateur/staccato_amateur/staccato_amateur36/graph; mkdir -p output_for_multimodal_with_skeleton/staccato/amateur/staccato_amateur/staccato_amateur36/image; mkdir -p output_for_multimodal_with_skeleton/staccato/amateur/staccato_amateur/staccato_amateur36/json; mkdir -p output_for_multimodal_with_skeleton/staccato/amateur/staccato_amateur/staccato_amateur36/video;mkdir -p output_for_multimodal_with_skeleton/staccato/amateur/staccato_amateur/staccato_amateur37/csv; mkdir -p output_for_multimodal_with_skeleton/staccato/amateur/staccato_amateur/staccato_amateur37/graph; mkdir -p output_for_multimodal_with_skeleton/staccato/amateur/staccato_amateur/staccato_amateur37/image; mkdir -p output_for_multimodal_with_skeleton/staccato/amateur/staccato_amateur/staccato_amateur37/json; mkdir -p output_for_multimodal_with_skeleton/staccato/amateur/staccato_amateur/staccato_amateur37/video;mkdir -p output_for_multimodal_with_skeleton/staccato/amateur/staccato_amateur/staccato_amateur38/csv; mkdir -p output_for_multimodal_with_skeleton/staccato/amateur/staccato_amateur/staccato_amateur38/graph; mkdir -p output_for_multimodal_with_skeleton/staccato/amateur/staccato_amateur/staccato_amateur38/image; mkdir -p output_for_multimodal_with_skeleton/staccato/amateur/staccato_amateur/staccato_amateur38/json; mkdir -p output_for_multimodal_with_skeleton/staccato/amateur/staccato_amateur/staccato_amateur38/video;mkdir -p output_for_multimodal_with_skeleton/staccato/amateur/staccato_amateur/staccato_amateur39/csv; mkdir -p output_for_multimodal_with_skeleton/staccato/amateur/staccato_amateur/staccato_amateur39/graph; mkdir -p output_for_multimodal_with_skeleton/staccato/amateur/staccato_amateur/staccato_amateur39/image; mkdir -p output_for_multimodal_with_skeleton/staccato/amateur/staccato_amateur/staccato_amateur39/json; mkdir -p output_for_multimodal_with_skeleton/staccato/amateur/staccato_amateur/staccato_amateur39/video;mkdir -p output_for_multimodal_with_skeleton/staccato/amateur/staccato_amateur/staccato_amateur40/csv; mkdir -p output_for_multimodal_with_skeleton/staccato/amateur/staccato_amateur/staccato_amateur40/graph; mkdir -p output_for_multimodal_with_skeleton/staccato/amateur/staccato_amateur/staccato_amateur40/image; mkdir -p output_for_multimodal_with_skeleton/staccato/amateur/staccato_amateur/staccato_amateur40/json; mkdir -p output_for_multimodal_with_skeleton/staccato/amateur/staccato_amateur/staccato_amateur40/video;mkdir -p output_for_multimodal_with_skeleton/staccato/amateur/staccato_amateur/staccato_amateur41/csv; mkdir -p output_for_multimodal_with_skeleton/staccato/amateur/staccato_amateur/staccato_amateur41/graph; mkdir -p output_for_multimodal_with_skeleton/staccato/amateur/staccato_amateur/staccato_amateur41/image; mkdir -p output_for_multimodal_with_skeleton/staccato/amateur/staccato_amateur/staccato_amateur41/json; mkdir -p output_for_multimodal_with_skeleton/staccato/amateur/staccato_amateur/staccato_amateur41/video;mkdir -p output_for_multimodal_with_skeleton/staccato/amateur/staccato_amateur/staccato_amateur42/csv; mkdir -p output_for_multimodal_with_skeleton/staccato/amateur/staccato_amateur/staccato_amateur42/graph; mkdir -p output_for_multimodal_with_skeleton/staccato/amateur/staccato_amateur/staccato_amateur42/image; mkdir -p output_for_multimodal_with_skeleton/staccato/amateur/staccato_amateur/staccato_amateur42/json; mkdir -p output_for_multimodal_with_skeleton/staccato/amateur/staccato_amateur/staccato_amateur42/video;mkdir -p output_for_multimodal_with_skeleton/staccato/amateur/staccato_amateur/staccato_amateur43/csv; mkdir -p output_for_multimodal_with_skeleton/staccato/amateur/staccato_amateur/staccato_amateur43/graph; mkdir -p output_for_multimodal_with_skeleton/staccato/amateur/staccato_amateur/staccato_amateur43/image; mkdir -p output_for_multimodal_with_skeleton/staccato/amateur/staccato_amateur/staccato_amateur43/json; mkdir -p output_for_multimodal_with_skeleton/staccato/amateur/staccato_amateur/staccato_amateur43/video;mkdir -p output_for_multimodal_with_skeleton/staccato/amateur/staccato_amateur/staccato_amateur44/csv; mkdir -p output_for_multimodal_with_skeleton/staccato/amateur/staccato_amateur/staccato_amateur44/graph; mkdir -p output_for_multimodal_with_skeleton/staccato/amateur/staccato_amateur/staccato_amateur44/image; mkdir -p output_for_multimodal_with_skeleton/staccato/amateur/staccato_amateur/staccato_amateur44/json; mkdir -p output_for_multimodal_with_skeleton/staccato/amateur/staccato_amateur/staccato_amateur44/video;mkdir -p output_for_multimodal_with_skeleton/staccato/amateur/staccato_amateur/staccato_amateur45/csv; mkdir -p output_for_multimodal_with_skeleton/staccato/amateur/staccato_amateur/staccato_amateur45/graph; mkdir -p output_for_multimodal_with_skeleton/staccato/amateur/staccato_amateur/staccato_amateur45/image; mkdir -p output_for_multimodal_with_skeleton/staccato/amateur/staccato_amateur/staccato_amateur45/json; mkdir -p output_for_multimodal_with_skeleton/staccato/amateur/staccato_amateur/staccato_amateur45/video;mkdir -p output_for_multimodal_with_skeleton/staccato/amateur/staccato_amateur/staccato_amateur46/csv; mkdir -p output_for_multimodal_with_skeleton/staccato/amateur/staccato_amateur/staccato_amateur46/graph; mkdir -p output_for_multimodal_with_skeleton/staccato/amateur/staccato_amateur/staccato_amateur46/image; mkdir -p output_for_multimodal_with_skeleton/staccato/amateur/staccato_amateur/staccato_amateur46/json; mkdir -p output_for_multimodal_with_skeleton/staccato/amateur/staccato_amateur/staccato_amateur46/video;"
     ]
    }
   ],
   "source": [
    "#make command line (extract skeleton and make json file)\n",
    "#for body and hand\n",
    "\n",
    "import sys\n",
    "import os\n",
    "\n",
    "#have to be edited by file\n",
    "i = 1\n",
    "file_count = 46\n",
    "#media_folder_name = \"chopin_etudeop10no1_natalieSchwamova_pro_arpeggio\"\n",
    "#folder_name = \"chopin_etudeop10no1_natalieSchwamova_pro_arpeggio\"+ str(\"_hand\")\n",
    "level = \"amateur\"\n",
    "action = \"staccato\"\n",
    "\n",
    "# list = os.listdir(dir) # dir is your directory path\n",
    "# number_files = len(list)\n",
    "\n",
    "#make folder for saving json, video etc...\n",
    "while (i <= file_count):\n",
    "    all = [\"mkdir -p output_for_multimodal_with_skeleton/\",str(action),\"/\",str(level),\"/\",str(action),\"_\",str(level),\"/\",str(action),\"_\",str(level),i,\n",
    "           \"/csv; mkdir -p output_for_multimodal_with_skeleton/\",str(action),\"/\",str(level),\"/\",str(action),\"_\",str(level),\"/\",str(action),\"_\",str(level),i,\n",
    "           \"/graph; mkdir -p output_for_multimodal_with_skeleton/\",str(action),\"/\",str(level),\"/\",str(action),\"_\",str(level),\"/\",str(action),\"_\",str(level),i,\n",
    "           \"/image; mkdir -p output_for_multimodal_with_skeleton/\",str(action),\"/\",str(level),\"/\",str(action),\"_\",str(level),\"/\",str(action),\"_\",str(level),i,\n",
    "           \"/json; mkdir -p output_for_multimodal_with_skeleton/\",str(action),\"/\",str(level),\"/\",str(action),\"_\",str(level),\"/\",str(action),\"_\",str(level),i,\n",
    "           \"/video;\"]\n",
    "    sys.stdout.write(''.join(map(str, all)))  \n",
    "    #print(''.join(map(str, all)))\n",
    "    i += 1   "
   ]
  },
  {
   "cell_type": "markdown",
   "metadata": {},
   "source": [
    "# Amateur"
   ]
  },
  {
   "cell_type": "code",
   "execution_count": 24,
   "metadata": {},
   "outputs": [
    {
     "name": "stdout",
     "output_type": "stream",
     "text": [
      "./build/examples/openpose/openpose.bin --video ./media/staccato/amateur/0_output_staccato_amateur_chopin_etudeop10no4_amateur_staccato.avi --write_images output_for_multimodal_with_skeleton/staccato/amateur/staccato_amateur/staccato_amateur1/image/ --write_json output_for_multimodal_with_skeleton/staccato/amateur/staccato_amateur/staccato_amateur1/json/ --write_video output_for_multimodal_with_skeleton/staccato/amateur/staccato_amateur/staccato_amateur1/video/staccato_amateur1.avi --render_pose 2 --keypoint_scale 0;./build/examples/openpose/openpose.bin --video ./media/staccato/amateur/1_output_staccato_amateur_chopin_etudeop10no4_amateur_staccato.avi --write_images output_for_multimodal_with_skeleton/staccato/amateur/staccato_amateur/staccato_amateur2/image/ --write_json output_for_multimodal_with_skeleton/staccato/amateur/staccato_amateur/staccato_amateur2/json/ --write_video output_for_multimodal_with_skeleton/staccato/amateur/staccato_amateur/staccato_amateur2/video/staccato_amateur2.avi --render_pose 2 --keypoint_scale 0;./build/examples/openpose/openpose.bin --video ./media/staccato/amateur/2_output_staccato_amateur_chopin_etudeop10no4_amateur_staccato.avi --write_images output_for_multimodal_with_skeleton/staccato/amateur/staccato_amateur/staccato_amateur3/image/ --write_json output_for_multimodal_with_skeleton/staccato/amateur/staccato_amateur/staccato_amateur3/json/ --write_video output_for_multimodal_with_skeleton/staccato/amateur/staccato_amateur/staccato_amateur3/video/staccato_amateur3.avi --render_pose 2 --keypoint_scale 0;./build/examples/openpose/openpose.bin --video ./media/staccato/amateur/3_output_staccato_amateur_chopin_etudeop10no4_amateur_staccato.avi --write_images output_for_multimodal_with_skeleton/staccato/amateur/staccato_amateur/staccato_amateur4/image/ --write_json output_for_multimodal_with_skeleton/staccato/amateur/staccato_amateur/staccato_amateur4/json/ --write_video output_for_multimodal_with_skeleton/staccato/amateur/staccato_amateur/staccato_amateur4/video/staccato_amateur4.avi --render_pose 2 --keypoint_scale 0;./build/examples/openpose/openpose.bin --video ./media/staccato/amateur/4_output_staccato_amateur_chopin_etudeop10no4_amateur_staccato.avi --write_images output_for_multimodal_with_skeleton/staccato/amateur/staccato_amateur/staccato_amateur5/image/ --write_json output_for_multimodal_with_skeleton/staccato/amateur/staccato_amateur/staccato_amateur5/json/ --write_video output_for_multimodal_with_skeleton/staccato/amateur/staccato_amateur/staccato_amateur5/video/staccato_amateur5.avi --render_pose 2 --keypoint_scale 0;./build/examples/openpose/openpose.bin --video ./media/staccato/amateur/5_output_staccato_amateur_chopin_etudeop10no4_amateur_staccato.avi --write_images output_for_multimodal_with_skeleton/staccato/amateur/staccato_amateur/staccato_amateur6/image/ --write_json output_for_multimodal_with_skeleton/staccato/amateur/staccato_amateur/staccato_amateur6/json/ --write_video output_for_multimodal_with_skeleton/staccato/amateur/staccato_amateur/staccato_amateur6/video/staccato_amateur6.avi --render_pose 2 --keypoint_scale 0;./build/examples/openpose/openpose.bin --video ./media/staccato/amateur/6_output_staccato_amateur_chopin_etudeop10no4_amateur_staccato.avi --write_images output_for_multimodal_with_skeleton/staccato/amateur/staccato_amateur/staccato_amateur7/image/ --write_json output_for_multimodal_with_skeleton/staccato/amateur/staccato_amateur/staccato_amateur7/json/ --write_video output_for_multimodal_with_skeleton/staccato/amateur/staccato_amateur/staccato_amateur7/video/staccato_amateur7.avi --render_pose 2 --keypoint_scale 0;./build/examples/openpose/openpose.bin --video ./media/staccato/amateur/7_output_staccato_amateur_chopin_etudeop10no4_amateur_staccato.avi --write_images output_for_multimodal_with_skeleton/staccato/amateur/staccato_amateur/staccato_amateur8/image/ --write_json output_for_multimodal_with_skeleton/staccato/amateur/staccato_amateur/staccato_amateur8/json/ --write_video output_for_multimodal_with_skeleton/staccato/amateur/staccato_amateur/staccato_amateur8/video/staccato_amateur8.avi --render_pose 2 --keypoint_scale 0;./build/examples/openpose/openpose.bin --video ./media/staccato/amateur/8_output_staccato_amateur_chopin_etudeop10no4_amateur_staccato.avi --write_images output_for_multimodal_with_skeleton/staccato/amateur/staccato_amateur/staccato_amateur9/image/ --write_json output_for_multimodal_with_skeleton/staccato/amateur/staccato_amateur/staccato_amateur9/json/ --write_video output_for_multimodal_with_skeleton/staccato/amateur/staccato_amateur/staccato_amateur9/video/staccato_amateur9.avi --render_pose 2 --keypoint_scale 0;./build/examples/openpose/openpose.bin --video ./media/staccato/amateur/9_output_staccato_amateur_chopin_etudeop10no4_amateur_staccato.avi --write_images output_for_multimodal_with_skeleton/staccato/amateur/staccato_amateur/staccato_amateur10/image/ --write_json output_for_multimodal_with_skeleton/staccato/amateur/staccato_amateur/staccato_amateur10/json/ --write_video output_for_multimodal_with_skeleton/staccato/amateur/staccato_amateur/staccato_amateur10/video/staccato_amateur10.avi --render_pose 2 --keypoint_scale 0;./build/examples/openpose/openpose.bin --video ./media/staccato/amateur/10_output_staccato_amateur_chopin_etudeop10no4_amateur_staccato.avi --write_images output_for_multimodal_with_skeleton/staccato/amateur/staccato_amateur/staccato_amateur11/image/ --write_json output_for_multimodal_with_skeleton/staccato/amateur/staccato_amateur/staccato_amateur11/json/ --write_video output_for_multimodal_with_skeleton/staccato/amateur/staccato_amateur/staccato_amateur11/video/staccato_amateur11.avi --render_pose 2 --keypoint_scale 0;./build/examples/openpose/openpose.bin --video ./media/staccato/amateur/11_output_staccato_amateur_chopin_etudeop10no4_amateur_staccato.avi --write_images output_for_multimodal_with_skeleton/staccato/amateur/staccato_amateur/staccato_amateur12/image/ --write_json output_for_multimodal_with_skeleton/staccato/amateur/staccato_amateur/staccato_amateur12/json/ --write_video output_for_multimodal_with_skeleton/staccato/amateur/staccato_amateur/staccato_amateur12/video/staccato_amateur12.avi --render_pose 2 --keypoint_scale 0;./build/examples/openpose/openpose.bin --video ./media/staccato/amateur/12_output_staccato_amateur_chopin_etudeop10no4_amateur_staccato.avi --write_images output_for_multimodal_with_skeleton/staccato/amateur/staccato_amateur/staccato_amateur13/image/ --write_json output_for_multimodal_with_skeleton/staccato/amateur/staccato_amateur/staccato_amateur13/json/ --write_video output_for_multimodal_with_skeleton/staccato/amateur/staccato_amateur/staccato_amateur13/video/staccato_amateur13.avi --render_pose 2 --keypoint_scale 0;"
     ]
    }
   ],
   "source": [
    "# 0_output_staccato_amateur_chopin_etudeop10no4_amateur_staccato\n",
    "\n",
    "import sys\n",
    "import os\n",
    "\n",
    "#have to be edited by file\n",
    "\n",
    "file_count = 12\n",
    "media_folder_name = \"_output_staccato_amateur_chopin_etudeop10no4_\"\n",
    "#folder_name = \"chopin_etudeop10no1_natalieSchwamova_pro_arpeggio\"+ str(\"_hand\")\n",
    "level = \"amateur\"\n",
    "action = \"staccato\"\n",
    "\n",
    "\n",
    "i = 0\n",
    "#extract skeleton using openpose software\n",
    "while (i <= file_count):\n",
    "    all = [\"./build/examples/openpose/openpose.bin --video ./media/\"\n",
    "           ,str(action),\"/\",str(level),\"/\",i,str(media_folder_name),str(level),\"_\",str(action),\".avi --write_images output_for_multimodal_with_skeleton/\"\n",
    "           ,str(action),\"/\",str(level),\"/\",str(action),\"_\",str(level),\"/\",str(action),\"_\",str(level),i+1,\"/image/ --write_json output_for_multimodal_with_skeleton/\"\n",
    "           ,str(action),\"/\",str(level),\"/\",str(action),\"_\",str(level),\"/\",str(action),\"_\",str(level),i+1,\"/json/ --write_video output_for_multimodal_with_skeleton/\"\n",
    "           ,str(action),\"/\",str(level),\"/\",str(action),\"_\",str(level),\"/\",str(action),\"_\",str(level),i+1,\"/video/\"\n",
    "           ,str(action),\"_\",str(level),i+1,\".avi --render_pose 2 --keypoint_scale 0;\"]\n",
    "    sys.stdout.write(''.join(map(str, all)))  \n",
    "    #print(''.join(map(str, all)))\n",
    "    i += 1\n",
    "    \n",
    "    #--render_pose 2 --keypoint_scale 0"
   ]
  },
  {
   "cell_type": "code",
   "execution_count": 25,
   "metadata": {},
   "outputs": [
    {
     "name": "stdout",
     "output_type": "stream",
     "text": [
      "./build/examples/openpose/openpose.bin --video ./media/staccato/amateur/0_output_staccato_amateur_liszt_laCampanella_amateur_staccato.avi --write_images output_for_multimodal_with_skeleton/staccato/amateur/staccato_amateur/staccato_amateur14/image/ --write_json output_for_multimodal_with_skeleton/staccato/amateur/staccato_amateur/staccato_amateur14/json/ --write_video output_for_multimodal_with_skeleton/staccato/amateur/staccato_amateur/staccato_amateur14/video/staccato_amateur14.avi --render_pose 2 --keypoint_scale 0;./build/examples/openpose/openpose.bin --video ./media/staccato/amateur/1_output_staccato_amateur_liszt_laCampanella_amateur_staccato.avi --write_images output_for_multimodal_with_skeleton/staccato/amateur/staccato_amateur/staccato_amateur15/image/ --write_json output_for_multimodal_with_skeleton/staccato/amateur/staccato_amateur/staccato_amateur15/json/ --write_video output_for_multimodal_with_skeleton/staccato/amateur/staccato_amateur/staccato_amateur15/video/staccato_amateur15.avi --render_pose 2 --keypoint_scale 0;./build/examples/openpose/openpose.bin --video ./media/staccato/amateur/2_output_staccato_amateur_liszt_laCampanella_amateur_staccato.avi --write_images output_for_multimodal_with_skeleton/staccato/amateur/staccato_amateur/staccato_amateur16/image/ --write_json output_for_multimodal_with_skeleton/staccato/amateur/staccato_amateur/staccato_amateur16/json/ --write_video output_for_multimodal_with_skeleton/staccato/amateur/staccato_amateur/staccato_amateur16/video/staccato_amateur16.avi --render_pose 2 --keypoint_scale 0;./build/examples/openpose/openpose.bin --video ./media/staccato/amateur/3_output_staccato_amateur_liszt_laCampanella_amateur_staccato.avi --write_images output_for_multimodal_with_skeleton/staccato/amateur/staccato_amateur/staccato_amateur17/image/ --write_json output_for_multimodal_with_skeleton/staccato/amateur/staccato_amateur/staccato_amateur17/json/ --write_video output_for_multimodal_with_skeleton/staccato/amateur/staccato_amateur/staccato_amateur17/video/staccato_amateur17.avi --render_pose 2 --keypoint_scale 0;./build/examples/openpose/openpose.bin --video ./media/staccato/amateur/4_output_staccato_amateur_liszt_laCampanella_amateur_staccato.avi --write_images output_for_multimodal_with_skeleton/staccato/amateur/staccato_amateur/staccato_amateur18/image/ --write_json output_for_multimodal_with_skeleton/staccato/amateur/staccato_amateur/staccato_amateur18/json/ --write_video output_for_multimodal_with_skeleton/staccato/amateur/staccato_amateur/staccato_amateur18/video/staccato_amateur18.avi --render_pose 2 --keypoint_scale 0;./build/examples/openpose/openpose.bin --video ./media/staccato/amateur/5_output_staccato_amateur_liszt_laCampanella_amateur_staccato.avi --write_images output_for_multimodal_with_skeleton/staccato/amateur/staccato_amateur/staccato_amateur19/image/ --write_json output_for_multimodal_with_skeleton/staccato/amateur/staccato_amateur/staccato_amateur19/json/ --write_video output_for_multimodal_with_skeleton/staccato/amateur/staccato_amateur/staccato_amateur19/video/staccato_amateur19.avi --render_pose 2 --keypoint_scale 0;./build/examples/openpose/openpose.bin --video ./media/staccato/amateur/6_output_staccato_amateur_liszt_laCampanella_amateur_staccato.avi --write_images output_for_multimodal_with_skeleton/staccato/amateur/staccato_amateur/staccato_amateur20/image/ --write_json output_for_multimodal_with_skeleton/staccato/amateur/staccato_amateur/staccato_amateur20/json/ --write_video output_for_multimodal_with_skeleton/staccato/amateur/staccato_amateur/staccato_amateur20/video/staccato_amateur20.avi --render_pose 2 --keypoint_scale 0;./build/examples/openpose/openpose.bin --video ./media/staccato/amateur/7_output_staccato_amateur_liszt_laCampanella_amateur_staccato.avi --write_images output_for_multimodal_with_skeleton/staccato/amateur/staccato_amateur/staccato_amateur21/image/ --write_json output_for_multimodal_with_skeleton/staccato/amateur/staccato_amateur/staccato_amateur21/json/ --write_video output_for_multimodal_with_skeleton/staccato/amateur/staccato_amateur/staccato_amateur21/video/staccato_amateur21.avi --render_pose 2 --keypoint_scale 0;./build/examples/openpose/openpose.bin --video ./media/staccato/amateur/8_output_staccato_amateur_liszt_laCampanella_amateur_staccato.avi --write_images output_for_multimodal_with_skeleton/staccato/amateur/staccato_amateur/staccato_amateur22/image/ --write_json output_for_multimodal_with_skeleton/staccato/amateur/staccato_amateur/staccato_amateur22/json/ --write_video output_for_multimodal_with_skeleton/staccato/amateur/staccato_amateur/staccato_amateur22/video/staccato_amateur22.avi --render_pose 2 --keypoint_scale 0;"
     ]
    }
   ],
   "source": [
    "# 0_output_staccato_amateur_liszt_laCampanella_\n",
    "\n",
    "import sys\n",
    "import os\n",
    "\n",
    "#have to be edited by file\n",
    "\n",
    "file_count = 8\n",
    "media_folder_name = \"_output_staccato_amateur_liszt_laCampanella_\"\n",
    "#folder_name = \"chopin_etudeop10no1_natalieSchwamova_pro_arpeggio\"+ str(\"_hand\")\n",
    "level = \"amateur\"\n",
    "action = \"staccato\"\n",
    "\n",
    "\n",
    "i = 0\n",
    "#extract skeleton using openpose software\n",
    "while (i <= file_count):\n",
    "    all = [\"./build/examples/openpose/openpose.bin --video ./media/\"\n",
    "           ,str(action),\"/\",str(level),\"/\",i,str(media_folder_name),str(level),\"_\",str(action),\".avi --write_images output_for_multimodal_with_skeleton/\"\n",
    "           ,str(action),\"/\",str(level),\"/\",str(action),\"_\",str(level),\"/\",str(action),\"_\",str(level),i+14,\"/image/ --write_json output_for_multimodal_with_skeleton/\"\n",
    "           ,str(action),\"/\",str(level),\"/\",str(action),\"_\",str(level),\"/\",str(action),\"_\",str(level),i+14,\"/json/ --write_video output_for_multimodal_with_skeleton/\"\n",
    "           ,str(action),\"/\",str(level),\"/\",str(action),\"_\",str(level),\"/\",str(action),\"_\",str(level),i+14,\"/video/\"\n",
    "           ,str(action),\"_\",str(level),i+14,\".avi --render_pose 2 --keypoint_scale 0;\"]\n",
    "    sys.stdout.write(''.join(map(str, all)))  \n",
    "    #print(''.join(map(str, all)))\n",
    "    i += 1\n",
    "    \n",
    "    #--render_pose 2 --keypoint_scale 0"
   ]
  },
  {
   "cell_type": "code",
   "execution_count": 27,
   "metadata": {},
   "outputs": [
    {
     "name": "stdout",
     "output_type": "stream",
     "text": [
      "./build/examples/openpose/openpose.bin --video ./media/staccato/amateur/0_output_staccato_amateur_prokofiev_pianosonatano2mov4_amateur_staccato.avi --write_images output_for_multimodal_with_skeleton/staccato/amateur/staccato_amateur/staccato_amateur23/image/ --write_json output_for_multimodal_with_skeleton/staccato/amateur/staccato_amateur/staccato_amateur23/json/ --write_video output_for_multimodal_with_skeleton/staccato/amateur/staccato_amateur/staccato_amateur23/video/staccato_amateur23.avi --render_pose 2 --keypoint_scale 0;./build/examples/openpose/openpose.bin --video ./media/staccato/amateur/1_output_staccato_amateur_prokofiev_pianosonatano2mov4_amateur_staccato.avi --write_images output_for_multimodal_with_skeleton/staccato/amateur/staccato_amateur/staccato_amateur24/image/ --write_json output_for_multimodal_with_skeleton/staccato/amateur/staccato_amateur/staccato_amateur24/json/ --write_video output_for_multimodal_with_skeleton/staccato/amateur/staccato_amateur/staccato_amateur24/video/staccato_amateur24.avi --render_pose 2 --keypoint_scale 0;./build/examples/openpose/openpose.bin --video ./media/staccato/amateur/2_output_staccato_amateur_prokofiev_pianosonatano2mov4_amateur_staccato.avi --write_images output_for_multimodal_with_skeleton/staccato/amateur/staccato_amateur/staccato_amateur25/image/ --write_json output_for_multimodal_with_skeleton/staccato/amateur/staccato_amateur/staccato_amateur25/json/ --write_video output_for_multimodal_with_skeleton/staccato/amateur/staccato_amateur/staccato_amateur25/video/staccato_amateur25.avi --render_pose 2 --keypoint_scale 0;./build/examples/openpose/openpose.bin --video ./media/staccato/amateur/3_output_staccato_amateur_prokofiev_pianosonatano2mov4_amateur_staccato.avi --write_images output_for_multimodal_with_skeleton/staccato/amateur/staccato_amateur/staccato_amateur26/image/ --write_json output_for_multimodal_with_skeleton/staccato/amateur/staccato_amateur/staccato_amateur26/json/ --write_video output_for_multimodal_with_skeleton/staccato/amateur/staccato_amateur/staccato_amateur26/video/staccato_amateur26.avi --render_pose 2 --keypoint_scale 0;./build/examples/openpose/openpose.bin --video ./media/staccato/amateur/4_output_staccato_amateur_prokofiev_pianosonatano2mov4_amateur_staccato.avi --write_images output_for_multimodal_with_skeleton/staccato/amateur/staccato_amateur/staccato_amateur27/image/ --write_json output_for_multimodal_with_skeleton/staccato/amateur/staccato_amateur/staccato_amateur27/json/ --write_video output_for_multimodal_with_skeleton/staccato/amateur/staccato_amateur/staccato_amateur27/video/staccato_amateur27.avi --render_pose 2 --keypoint_scale 0;./build/examples/openpose/openpose.bin --video ./media/staccato/amateur/5_output_staccato_amateur_prokofiev_pianosonatano2mov4_amateur_staccato.avi --write_images output_for_multimodal_with_skeleton/staccato/amateur/staccato_amateur/staccato_amateur28/image/ --write_json output_for_multimodal_with_skeleton/staccato/amateur/staccato_amateur/staccato_amateur28/json/ --write_video output_for_multimodal_with_skeleton/staccato/amateur/staccato_amateur/staccato_amateur28/video/staccato_amateur28.avi --render_pose 2 --keypoint_scale 0;./build/examples/openpose/openpose.bin --video ./media/staccato/amateur/6_output_staccato_amateur_prokofiev_pianosonatano2mov4_amateur_staccato.avi --write_images output_for_multimodal_with_skeleton/staccato/amateur/staccato_amateur/staccato_amateur29/image/ --write_json output_for_multimodal_with_skeleton/staccato/amateur/staccato_amateur/staccato_amateur29/json/ --write_video output_for_multimodal_with_skeleton/staccato/amateur/staccato_amateur/staccato_amateur29/video/staccato_amateur29.avi --render_pose 2 --keypoint_scale 0;./build/examples/openpose/openpose.bin --video ./media/staccato/amateur/7_output_staccato_amateur_prokofiev_pianosonatano2mov4_amateur_staccato.avi --write_images output_for_multimodal_with_skeleton/staccato/amateur/staccato_amateur/staccato_amateur30/image/ --write_json output_for_multimodal_with_skeleton/staccato/amateur/staccato_amateur/staccato_amateur30/json/ --write_video output_for_multimodal_with_skeleton/staccato/amateur/staccato_amateur/staccato_amateur30/video/staccato_amateur30.avi --render_pose 2 --keypoint_scale 0;./build/examples/openpose/openpose.bin --video ./media/staccato/amateur/8_output_staccato_amateur_prokofiev_pianosonatano2mov4_amateur_staccato.avi --write_images output_for_multimodal_with_skeleton/staccato/amateur/staccato_amateur/staccato_amateur31/image/ --write_json output_for_multimodal_with_skeleton/staccato/amateur/staccato_amateur/staccato_amateur31/json/ --write_video output_for_multimodal_with_skeleton/staccato/amateur/staccato_amateur/staccato_amateur31/video/staccato_amateur31.avi --render_pose 2 --keypoint_scale 0;./build/examples/openpose/openpose.bin --video ./media/staccato/amateur/9_output_staccato_amateur_prokofiev_pianosonatano2mov4_amateur_staccato.avi --write_images output_for_multimodal_with_skeleton/staccato/amateur/staccato_amateur/staccato_amateur32/image/ --write_json output_for_multimodal_with_skeleton/staccato/amateur/staccato_amateur/staccato_amateur32/json/ --write_video output_for_multimodal_with_skeleton/staccato/amateur/staccato_amateur/staccato_amateur32/video/staccato_amateur32.avi --render_pose 2 --keypoint_scale 0;./build/examples/openpose/openpose.bin --video ./media/staccato/amateur/10_output_staccato_amateur_prokofiev_pianosonatano2mov4_amateur_staccato.avi --write_images output_for_multimodal_with_skeleton/staccato/amateur/staccato_amateur/staccato_amateur33/image/ --write_json output_for_multimodal_with_skeleton/staccato/amateur/staccato_amateur/staccato_amateur33/json/ --write_video output_for_multimodal_with_skeleton/staccato/amateur/staccato_amateur/staccato_amateur33/video/staccato_amateur33.avi --render_pose 2 --keypoint_scale 0;./build/examples/openpose/openpose.bin --video ./media/staccato/amateur/11_output_staccato_amateur_prokofiev_pianosonatano2mov4_amateur_staccato.avi --write_images output_for_multimodal_with_skeleton/staccato/amateur/staccato_amateur/staccato_amateur34/image/ --write_json output_for_multimodal_with_skeleton/staccato/amateur/staccato_amateur/staccato_amateur34/json/ --write_video output_for_multimodal_with_skeleton/staccato/amateur/staccato_amateur/staccato_amateur34/video/staccato_amateur34.avi --render_pose 2 --keypoint_scale 0;./build/examples/openpose/openpose.bin --video ./media/staccato/amateur/12_output_staccato_amateur_prokofiev_pianosonatano2mov4_amateur_staccato.avi --write_images output_for_multimodal_with_skeleton/staccato/amateur/staccato_amateur/staccato_amateur35/image/ --write_json output_for_multimodal_with_skeleton/staccato/amateur/staccato_amateur/staccato_amateur35/json/ --write_video output_for_multimodal_with_skeleton/staccato/amateur/staccato_amateur/staccato_amateur35/video/staccato_amateur35.avi --render_pose 2 --keypoint_scale 0;./build/examples/openpose/openpose.bin --video ./media/staccato/amateur/13_output_staccato_amateur_prokofiev_pianosonatano2mov4_amateur_staccato.avi --write_images output_for_multimodal_with_skeleton/staccato/amateur/staccato_amateur/staccato_amateur36/image/ --write_json output_for_multimodal_with_skeleton/staccato/amateur/staccato_amateur/staccato_amateur36/json/ --write_video output_for_multimodal_with_skeleton/staccato/amateur/staccato_amateur/staccato_amateur36/video/staccato_amateur36.avi --render_pose 2 --keypoint_scale 0;./build/examples/openpose/openpose.bin --video ./media/staccato/amateur/14_output_staccato_amateur_prokofiev_pianosonatano2mov4_amateur_staccato.avi --write_images output_for_multimodal_with_skeleton/staccato/amateur/staccato_amateur/staccato_amateur37/image/ --write_json output_for_multimodal_with_skeleton/staccato/amateur/staccato_amateur/staccato_amateur37/json/ --write_video output_for_multimodal_with_skeleton/staccato/amateur/staccato_amateur/staccato_amateur37/video/staccato_amateur37.avi --render_pose 2 --keypoint_scale 0;./build/examples/openpose/openpose.bin --video ./media/staccato/amateur/15_output_staccato_amateur_prokofiev_pianosonatano2mov4_amateur_staccato.avi --write_images output_for_multimodal_with_skeleton/staccato/amateur/staccato_amateur/staccato_amateur38/image/ --write_json output_for_multimodal_with_skeleton/staccato/amateur/staccato_amateur/staccato_amateur38/json/ --write_video output_for_multimodal_with_skeleton/staccato/amateur/staccato_amateur/staccato_amateur38/video/staccato_amateur38.avi --render_pose 2 --keypoint_scale 0;./build/examples/openpose/openpose.bin --video ./media/staccato/amateur/16_output_staccato_amateur_prokofiev_pianosonatano2mov4_amateur_staccato.avi --write_images output_for_multimodal_with_skeleton/staccato/amateur/staccato_amateur/staccato_amateur39/image/ --write_json output_for_multimodal_with_skeleton/staccato/amateur/staccato_amateur/staccato_amateur39/json/ --write_video output_for_multimodal_with_skeleton/staccato/amateur/staccato_amateur/staccato_amateur39/video/staccato_amateur39.avi --render_pose 2 --keypoint_scale 0;./build/examples/openpose/openpose.bin --video ./media/staccato/amateur/17_output_staccato_amateur_prokofiev_pianosonatano2mov4_amateur_staccato.avi --write_images output_for_multimodal_with_skeleton/staccato/amateur/staccato_amateur/staccato_amateur40/image/ --write_json output_for_multimodal_with_skeleton/staccato/amateur/staccato_amateur/staccato_amateur40/json/ --write_video output_for_multimodal_with_skeleton/staccato/amateur/staccato_amateur/staccato_amateur40/video/staccato_amateur40.avi --render_pose 2 --keypoint_scale 0;./build/examples/openpose/openpose.bin --video ./media/staccato/amateur/18_output_staccato_amateur_prokofiev_pianosonatano2mov4_amateur_staccato.avi --write_images output_for_multimodal_with_skeleton/staccato/amateur/staccato_amateur/staccato_amateur41/image/ --write_json output_for_multimodal_with_skeleton/staccato/amateur/staccato_amateur/staccato_amateur41/json/ --write_video output_for_multimodal_with_skeleton/staccato/amateur/staccato_amateur/staccato_amateur41/video/staccato_amateur41.avi --render_pose 2 --keypoint_scale 0;./build/examples/openpose/openpose.bin --video ./media/staccato/amateur/19_output_staccato_amateur_prokofiev_pianosonatano2mov4_amateur_staccato.avi --write_images output_for_multimodal_with_skeleton/staccato/amateur/staccato_amateur/staccato_amateur42/image/ --write_json output_for_multimodal_with_skeleton/staccato/amateur/staccato_amateur/staccato_amateur42/json/ --write_video output_for_multimodal_with_skeleton/staccato/amateur/staccato_amateur/staccato_amateur42/video/staccato_amateur42.avi --render_pose 2 --keypoint_scale 0;./build/examples/openpose/openpose.bin --video ./media/staccato/amateur/20_output_staccato_amateur_prokofiev_pianosonatano2mov4_amateur_staccato.avi --write_images output_for_multimodal_with_skeleton/staccato/amateur/staccato_amateur/staccato_amateur43/image/ --write_json output_for_multimodal_with_skeleton/staccato/amateur/staccato_amateur/staccato_amateur43/json/ --write_video output_for_multimodal_with_skeleton/staccato/amateur/staccato_amateur/staccato_amateur43/video/staccato_amateur43.avi --render_pose 2 --keypoint_scale 0;"
     ]
    }
   ],
   "source": [
    "# 0_output_staccato_amateur_prokofiev_pianosonatano2mov4_\n",
    "\n",
    "import sys\n",
    "import os\n",
    "\n",
    "#have to be edited by file\n",
    "\n",
    "file_count = 20\n",
    "media_folder_name = \"_output_staccato_amateur_prokofiev_pianosonatano2mov4_\"\n",
    "#folder_name = \"chopin_etudeop10no1_natalieSchwamova_pro_arpeggio\"+ str(\"_hand\")\n",
    "level = \"amateur\"\n",
    "action = \"staccato\"\n",
    "\n",
    "\n",
    "i = 0\n",
    "#extract skeleton using openpose software\n",
    "while (i <= file_count):\n",
    "    all = [\"./build/examples/openpose/openpose.bin --video ./media/\"\n",
    "           ,str(action),\"/\",str(level),\"/\",i,str(media_folder_name),str(level),\"_\",str(action),\".avi --write_images output_for_multimodal_with_skeleton/\"\n",
    "           ,str(action),\"/\",str(level),\"/\",str(action),\"_\",str(level),\"/\",str(action),\"_\",str(level),i+23,\"/image/ --write_json output_for_multimodal_with_skeleton/\"\n",
    "           ,str(action),\"/\",str(level),\"/\",str(action),\"_\",str(level),\"/\",str(action),\"_\",str(level),i+23,\"/json/ --write_video output_for_multimodal_with_skeleton/\"\n",
    "           ,str(action),\"/\",str(level),\"/\",str(action),\"_\",str(level),\"/\",str(action),\"_\",str(level),i+23,\"/video/\"\n",
    "           ,str(action),\"_\",str(level),i+23,\".avi --render_pose 2 --keypoint_scale 0;\"]\n",
    "    sys.stdout.write(''.join(map(str, all)))  \n",
    "    #print(''.join(map(str, all)))\n",
    "    i += 1\n",
    "    \n",
    "    #--render_pose 2 --keypoint_scale 0\n",
    "\n",
    "'''\n",
    "./build/examples/openpose/openpose.bin --video ./media/staccato/amateur/staccato_amateur_chopin_etudeop10no4_amateur_staccato.avi --write_images output_for_multimodal_with_skeleton/staccato/amateur/staccato_amateur/staccato_amateur44/image/ --write_json output_for_multimodal_with_skeleton/staccato/amateur/staccato_amateur/staccato_amateur44/json/ --write_video output_for_multimodal_with_skeleton/staccato/amateur/staccato_amateur/staccato_amateur44/video/staccato_amateur44.avi --render_pose 2 --keypoint_scale 0;\n",
    "\n",
    "./build/examples/openpose/openpose.bin --video ./media/staccato/amateur/staccato_amateur_chopin_etudeop10no4_amateur_staccato.avi --write_images output_for_multimodal_with_skeleton/staccato/amateur/staccato_amateur/staccato_amateur44/image/ --write_json output_for_multimodal_with_skeleton/staccato/amateur/staccato_amateur/staccato_amateur44/json/ --write_video output_for_multimodal_with_skeleton/staccato/amateur/staccato_amateur/staccato_amateur44/video/staccato_amateur45.avi --render_pose 2 --keypoint_scale 0;\n",
    "\n",
    "'''"
   ]
  },
  {
   "cell_type": "markdown",
   "metadata": {},
   "source": [
    "# Pro"
   ]
  },
  {
   "cell_type": "code",
   "execution_count": 34,
   "metadata": {},
   "outputs": [
    {
     "name": "stdout",
     "output_type": "stream",
     "text": [
      "./build/examples/openpose/openpose.bin --video ./media/staccato/pro/0_output_staccato_pro_chopin_etudeop10no4_valentinaLisitsa_staccato.avi --write_images output_for_multimodal_with_skeleton/staccato/pro/staccato_pro/staccato_pro1/image/ --write_json output_for_multimodal_with_skeleton/staccato/pro/staccato_pro/staccato_pro1/json/ --write_video output_for_multimodal_with_skeleton/staccato/pro/staccato_pro/staccato_pro1/video/staccato_pro1.avi --render_pose 2 --keypoint_scale 0;./build/examples/openpose/openpose.bin --video ./media/staccato/pro/1_output_staccato_pro_chopin_etudeop10no4_valentinaLisitsa_staccato.avi --write_images output_for_multimodal_with_skeleton/staccato/pro/staccato_pro/staccato_pro2/image/ --write_json output_for_multimodal_with_skeleton/staccato/pro/staccato_pro/staccato_pro2/json/ --write_video output_for_multimodal_with_skeleton/staccato/pro/staccato_pro/staccato_pro2/video/staccato_pro2.avi --render_pose 2 --keypoint_scale 0;./build/examples/openpose/openpose.bin --video ./media/staccato/pro/2_output_staccato_pro_chopin_etudeop10no4_valentinaLisitsa_staccato.avi --write_images output_for_multimodal_with_skeleton/staccato/pro/staccato_pro/staccato_pro3/image/ --write_json output_for_multimodal_with_skeleton/staccato/pro/staccato_pro/staccato_pro3/json/ --write_video output_for_multimodal_with_skeleton/staccato/pro/staccato_pro/staccato_pro3/video/staccato_pro3.avi --render_pose 2 --keypoint_scale 0;./build/examples/openpose/openpose.bin --video ./media/staccato/pro/3_output_staccato_pro_chopin_etudeop10no4_valentinaLisitsa_staccato.avi --write_images output_for_multimodal_with_skeleton/staccato/pro/staccato_pro/staccato_pro4/image/ --write_json output_for_multimodal_with_skeleton/staccato/pro/staccato_pro/staccato_pro4/json/ --write_video output_for_multimodal_with_skeleton/staccato/pro/staccato_pro/staccato_pro4/video/staccato_pro4.avi --render_pose 2 --keypoint_scale 0;./build/examples/openpose/openpose.bin --video ./media/staccato/pro/4_output_staccato_pro_chopin_etudeop10no4_valentinaLisitsa_staccato.avi --write_images output_for_multimodal_with_skeleton/staccato/pro/staccato_pro/staccato_pro5/image/ --write_json output_for_multimodal_with_skeleton/staccato/pro/staccato_pro/staccato_pro5/json/ --write_video output_for_multimodal_with_skeleton/staccato/pro/staccato_pro/staccato_pro5/video/staccato_pro5.avi --render_pose 2 --keypoint_scale 0;./build/examples/openpose/openpose.bin --video ./media/staccato/pro/5_output_staccato_pro_chopin_etudeop10no4_valentinaLisitsa_staccato.avi --write_images output_for_multimodal_with_skeleton/staccato/pro/staccato_pro/staccato_pro6/image/ --write_json output_for_multimodal_with_skeleton/staccato/pro/staccato_pro/staccato_pro6/json/ --write_video output_for_multimodal_with_skeleton/staccato/pro/staccato_pro/staccato_pro6/video/staccato_pro6.avi --render_pose 2 --keypoint_scale 0;./build/examples/openpose/openpose.bin --video ./media/staccato/pro/6_output_staccato_pro_chopin_etudeop10no4_valentinaLisitsa_staccato.avi --write_images output_for_multimodal_with_skeleton/staccato/pro/staccato_pro/staccato_pro7/image/ --write_json output_for_multimodal_with_skeleton/staccato/pro/staccato_pro/staccato_pro7/json/ --write_video output_for_multimodal_with_skeleton/staccato/pro/staccato_pro/staccato_pro7/video/staccato_pro7.avi --render_pose 2 --keypoint_scale 0;./build/examples/openpose/openpose.bin --video ./media/staccato/pro/7_output_staccato_pro_chopin_etudeop10no4_valentinaLisitsa_staccato.avi --write_images output_for_multimodal_with_skeleton/staccato/pro/staccato_pro/staccato_pro8/image/ --write_json output_for_multimodal_with_skeleton/staccato/pro/staccato_pro/staccato_pro8/json/ --write_video output_for_multimodal_with_skeleton/staccato/pro/staccato_pro/staccato_pro8/video/staccato_pro8.avi --render_pose 2 --keypoint_scale 0;./build/examples/openpose/openpose.bin --video ./media/staccato/pro/8_output_staccato_pro_chopin_etudeop10no4_valentinaLisitsa_staccato.avi --write_images output_for_multimodal_with_skeleton/staccato/pro/staccato_pro/staccato_pro9/image/ --write_json output_for_multimodal_with_skeleton/staccato/pro/staccato_pro/staccato_pro9/json/ --write_video output_for_multimodal_with_skeleton/staccato/pro/staccato_pro/staccato_pro9/video/staccato_pro9.avi --render_pose 2 --keypoint_scale 0;./build/examples/openpose/openpose.bin --video ./media/staccato/pro/9_output_staccato_pro_chopin_etudeop10no4_valentinaLisitsa_staccato.avi --write_images output_for_multimodal_with_skeleton/staccato/pro/staccato_pro/staccato_pro10/image/ --write_json output_for_multimodal_with_skeleton/staccato/pro/staccato_pro/staccato_pro10/json/ --write_video output_for_multimodal_with_skeleton/staccato/pro/staccato_pro/staccato_pro10/video/staccato_pro10.avi --render_pose 2 --keypoint_scale 0;"
     ]
    }
   ],
   "source": [
    "# 0_output_staccato_pro_chopin_etudeop10no4_valentinaLisitsa_\n",
    "\n",
    "import sys\n",
    "import os\n",
    "\n",
    "#have to be edited by file\n",
    "\n",
    "file_count = 9\n",
    "media_folder_name = \"_output_staccato_pro_chopin_etudeop10no4_valentinaLisitsa_\"\n",
    "#folder_name = \"chopin_etudeop10no1_natalieSchwamova_pro_arpeggio\"+ str(\"_hand\")\n",
    "level = \"pro\"\n",
    "action = \"staccato\"\n",
    "\n",
    "\n",
    "i = 0\n",
    "#extract skeleton using openpose software\n",
    "while (i <= file_count):\n",
    "    all = [\"./build/examples/openpose/openpose.bin --video ./media/\"\n",
    "           ,str(action),\"/\",str(level),\"/\",i,str(media_folder_name),str(action),\".avi --write_images output_for_multimodal_with_skeleton/\"\n",
    "           ,str(action),\"/\",str(level),\"/\",str(action),\"_\",str(level),\"/\",str(action),\"_\",str(level),i+1,\"/image/ --write_json output_for_multimodal_with_skeleton/\"\n",
    "           ,str(action),\"/\",str(level),\"/\",str(action),\"_\",str(level),\"/\",str(action),\"_\",str(level),i+1,\"/json/ --write_video output_for_multimodal_with_skeleton/\"\n",
    "           ,str(action),\"/\",str(level),\"/\",str(action),\"_\",str(level),\"/\",str(action),\"_\",str(level),i+1,\"/video/\"\n",
    "           ,str(action),\"_\",str(level),i+1,\".avi --render_pose 2 --keypoint_scale 0;\"]\n",
    "    sys.stdout.write(''.join(map(str, all)))  \n",
    "    #print(''.join(map(str, all)))\n",
    "    i += 1\n",
    "    \n",
    "    #--render_pose 2 --keypoint_scale 0"
   ]
  },
  {
   "cell_type": "code",
   "execution_count": 35,
   "metadata": {},
   "outputs": [
    {
     "name": "stdout",
     "output_type": "stream",
     "text": [
      "./build/examples/openpose/openpose.bin --video ./media/staccato/pro/0_output_staccato_pro_liszt_laCampanella_yeolEumSon_staccato.avi --write_images output_for_multimodal_with_skeleton/staccato/pro/staccato_pro/staccato_pro11/image/ --write_json output_for_multimodal_with_skeleton/staccato/pro/staccato_pro/staccato_pro11/json/ --write_video output_for_multimodal_with_skeleton/staccato/pro/staccato_pro/staccato_pro11/video/staccato_pro11.avi --render_pose 2 --keypoint_scale 0;./build/examples/openpose/openpose.bin --video ./media/staccato/pro/1_output_staccato_pro_liszt_laCampanella_yeolEumSon_staccato.avi --write_images output_for_multimodal_with_skeleton/staccato/pro/staccato_pro/staccato_pro12/image/ --write_json output_for_multimodal_with_skeleton/staccato/pro/staccato_pro/staccato_pro12/json/ --write_video output_for_multimodal_with_skeleton/staccato/pro/staccato_pro/staccato_pro12/video/staccato_pro12.avi --render_pose 2 --keypoint_scale 0;./build/examples/openpose/openpose.bin --video ./media/staccato/pro/2_output_staccato_pro_liszt_laCampanella_yeolEumSon_staccato.avi --write_images output_for_multimodal_with_skeleton/staccato/pro/staccato_pro/staccato_pro13/image/ --write_json output_for_multimodal_with_skeleton/staccato/pro/staccato_pro/staccato_pro13/json/ --write_video output_for_multimodal_with_skeleton/staccato/pro/staccato_pro/staccato_pro13/video/staccato_pro13.avi --render_pose 2 --keypoint_scale 0;./build/examples/openpose/openpose.bin --video ./media/staccato/pro/3_output_staccato_pro_liszt_laCampanella_yeolEumSon_staccato.avi --write_images output_for_multimodal_with_skeleton/staccato/pro/staccato_pro/staccato_pro14/image/ --write_json output_for_multimodal_with_skeleton/staccato/pro/staccato_pro/staccato_pro14/json/ --write_video output_for_multimodal_with_skeleton/staccato/pro/staccato_pro/staccato_pro14/video/staccato_pro14.avi --render_pose 2 --keypoint_scale 0;./build/examples/openpose/openpose.bin --video ./media/staccato/pro/4_output_staccato_pro_liszt_laCampanella_yeolEumSon_staccato.avi --write_images output_for_multimodal_with_skeleton/staccato/pro/staccato_pro/staccato_pro15/image/ --write_json output_for_multimodal_with_skeleton/staccato/pro/staccato_pro/staccato_pro15/json/ --write_video output_for_multimodal_with_skeleton/staccato/pro/staccato_pro/staccato_pro15/video/staccato_pro15.avi --render_pose 2 --keypoint_scale 0;./build/examples/openpose/openpose.bin --video ./media/staccato/pro/5_output_staccato_pro_liszt_laCampanella_yeolEumSon_staccato.avi --write_images output_for_multimodal_with_skeleton/staccato/pro/staccato_pro/staccato_pro16/image/ --write_json output_for_multimodal_with_skeleton/staccato/pro/staccato_pro/staccato_pro16/json/ --write_video output_for_multimodal_with_skeleton/staccato/pro/staccato_pro/staccato_pro16/video/staccato_pro16.avi --render_pose 2 --keypoint_scale 0;./build/examples/openpose/openpose.bin --video ./media/staccato/pro/6_output_staccato_pro_liszt_laCampanella_yeolEumSon_staccato.avi --write_images output_for_multimodal_with_skeleton/staccato/pro/staccato_pro/staccato_pro17/image/ --write_json output_for_multimodal_with_skeleton/staccato/pro/staccato_pro/staccato_pro17/json/ --write_video output_for_multimodal_with_skeleton/staccato/pro/staccato_pro/staccato_pro17/video/staccato_pro17.avi --render_pose 2 --keypoint_scale 0;./build/examples/openpose/openpose.bin --video ./media/staccato/pro/7_output_staccato_pro_liszt_laCampanella_yeolEumSon_staccato.avi --write_images output_for_multimodal_with_skeleton/staccato/pro/staccato_pro/staccato_pro18/image/ --write_json output_for_multimodal_with_skeleton/staccato/pro/staccato_pro/staccato_pro18/json/ --write_video output_for_multimodal_with_skeleton/staccato/pro/staccato_pro/staccato_pro18/video/staccato_pro18.avi --render_pose 2 --keypoint_scale 0;./build/examples/openpose/openpose.bin --video ./media/staccato/pro/8_output_staccato_pro_liszt_laCampanella_yeolEumSon_staccato.avi --write_images output_for_multimodal_with_skeleton/staccato/pro/staccato_pro/staccato_pro19/image/ --write_json output_for_multimodal_with_skeleton/staccato/pro/staccato_pro/staccato_pro19/json/ --write_video output_for_multimodal_with_skeleton/staccato/pro/staccato_pro/staccato_pro19/video/staccato_pro19.avi --render_pose 2 --keypoint_scale 0;"
     ]
    }
   ],
   "source": [
    "# _output_staccato_pro_liszt_laCampanella_yeolEumSon_\n",
    "\n",
    "import sys\n",
    "import os\n",
    "\n",
    "#have to be edited by file\n",
    "\n",
    "file_count = 8\n",
    "media_folder_name = \"_output_staccato_pro_liszt_laCampanella_yeolEumSon_\"\n",
    "#folder_name = \"chopin_etudeop10no1_natalieSchwamova_pro_arpeggio\"+ str(\"_hand\")\n",
    "level = \"pro\"\n",
    "action = \"staccato\"\n",
    "\n",
    "\n",
    "i = 0\n",
    "#extract skeleton using openpose software\n",
    "while (i <= file_count):\n",
    "    all = [\"./build/examples/openpose/openpose.bin --video ./media/\"\n",
    "           ,str(action),\"/\",str(level),\"/\",i,str(media_folder_name),str(action),\".avi --write_images output_for_multimodal_with_skeleton/\"\n",
    "           ,str(action),\"/\",str(level),\"/\",str(action),\"_\",str(level),\"/\",str(action),\"_\",str(level),i+11,\"/image/ --write_json output_for_multimodal_with_skeleton/\"\n",
    "           ,str(action),\"/\",str(level),\"/\",str(action),\"_\",str(level),\"/\",str(action),\"_\",str(level),i+11,\"/json/ --write_video output_for_multimodal_with_skeleton/\"\n",
    "           ,str(action),\"/\",str(level),\"/\",str(action),\"_\",str(level),\"/\",str(action),\"_\",str(level),i+11,\"/video/\"\n",
    "           ,str(action),\"_\",str(level),i+11,\".avi --render_pose 2 --keypoint_scale 0;\"]\n",
    "    sys.stdout.write(''.join(map(str, all)))  \n",
    "    #print(''.join(map(str, all)))\n",
    "    i += 1\n",
    "    \n",
    "    #--render_pose 2 --keypoint_scale 0"
   ]
  },
  {
   "cell_type": "code",
   "execution_count": 36,
   "metadata": {},
   "outputs": [
    {
     "name": "stdout",
     "output_type": "stream",
     "text": [
      "./build/examples/openpose/openpose.bin --video ./media/staccato/pro/0_output_staccato_pro_prokofiev_pianosonatano2mov4_hyunJungKim_staccato.avi --write_images output_for_multimodal_with_skeleton/staccato/pro/staccato_pro/staccato_pro20/image/ --write_json output_for_multimodal_with_skeleton/staccato/pro/staccato_pro/staccato_pro20/json/ --write_video output_for_multimodal_with_skeleton/staccato/pro/staccato_pro/staccato_pro20/video/staccato_pro20.avi --render_pose 2 --keypoint_scale 0;./build/examples/openpose/openpose.bin --video ./media/staccato/pro/1_output_staccato_pro_prokofiev_pianosonatano2mov4_hyunJungKim_staccato.avi --write_images output_for_multimodal_with_skeleton/staccato/pro/staccato_pro/staccato_pro21/image/ --write_json output_for_multimodal_with_skeleton/staccato/pro/staccato_pro/staccato_pro21/json/ --write_video output_for_multimodal_with_skeleton/staccato/pro/staccato_pro/staccato_pro21/video/staccato_pro21.avi --render_pose 2 --keypoint_scale 0;./build/examples/openpose/openpose.bin --video ./media/staccato/pro/2_output_staccato_pro_prokofiev_pianosonatano2mov4_hyunJungKim_staccato.avi --write_images output_for_multimodal_with_skeleton/staccato/pro/staccato_pro/staccato_pro22/image/ --write_json output_for_multimodal_with_skeleton/staccato/pro/staccato_pro/staccato_pro22/json/ --write_video output_for_multimodal_with_skeleton/staccato/pro/staccato_pro/staccato_pro22/video/staccato_pro22.avi --render_pose 2 --keypoint_scale 0;./build/examples/openpose/openpose.bin --video ./media/staccato/pro/3_output_staccato_pro_prokofiev_pianosonatano2mov4_hyunJungKim_staccato.avi --write_images output_for_multimodal_with_skeleton/staccato/pro/staccato_pro/staccato_pro23/image/ --write_json output_for_multimodal_with_skeleton/staccato/pro/staccato_pro/staccato_pro23/json/ --write_video output_for_multimodal_with_skeleton/staccato/pro/staccato_pro/staccato_pro23/video/staccato_pro23.avi --render_pose 2 --keypoint_scale 0;./build/examples/openpose/openpose.bin --video ./media/staccato/pro/4_output_staccato_pro_prokofiev_pianosonatano2mov4_hyunJungKim_staccato.avi --write_images output_for_multimodal_with_skeleton/staccato/pro/staccato_pro/staccato_pro24/image/ --write_json output_for_multimodal_with_skeleton/staccato/pro/staccato_pro/staccato_pro24/json/ --write_video output_for_multimodal_with_skeleton/staccato/pro/staccato_pro/staccato_pro24/video/staccato_pro24.avi --render_pose 2 --keypoint_scale 0;./build/examples/openpose/openpose.bin --video ./media/staccato/pro/5_output_staccato_pro_prokofiev_pianosonatano2mov4_hyunJungKim_staccato.avi --write_images output_for_multimodal_with_skeleton/staccato/pro/staccato_pro/staccato_pro25/image/ --write_json output_for_multimodal_with_skeleton/staccato/pro/staccato_pro/staccato_pro25/json/ --write_video output_for_multimodal_with_skeleton/staccato/pro/staccato_pro/staccato_pro25/video/staccato_pro25.avi --render_pose 2 --keypoint_scale 0;"
     ]
    }
   ],
   "source": [
    "# _output_staccato_pro_liszt_laCampanella_yeolEumSon_\n",
    "\n",
    "import sys\n",
    "import os\n",
    "\n",
    "#have to be edited by file\n",
    "\n",
    "file_count = 5\n",
    "media_folder_name = \"_output_staccato_pro_prokofiev_pianosonatano2mov4_hyunJungKim_\"\n",
    "#folder_name = \"chopin_etudeop10no1_natalieSchwamova_pro_arpeggio\"+ str(\"_hand\")\n",
    "level = \"pro\"\n",
    "action = \"staccato\"\n",
    "\n",
    "\n",
    "i = 0\n",
    "#extract skeleton using openpose software\n",
    "while (i <= file_count):\n",
    "    all = [\"./build/examples/openpose/openpose.bin --video ./media/\"\n",
    "           ,str(action),\"/\",str(level),\"/\",i,str(media_folder_name),str(action),\".avi --write_images output_for_multimodal_with_skeleton/\"\n",
    "           ,str(action),\"/\",str(level),\"/\",str(action),\"_\",str(level),\"/\",str(action),\"_\",str(level),i+20,\"/image/ --write_json output_for_multimodal_with_skeleton/\"\n",
    "           ,str(action),\"/\",str(level),\"/\",str(action),\"_\",str(level),\"/\",str(action),\"_\",str(level),i+20,\"/json/ --write_video output_for_multimodal_with_skeleton/\"\n",
    "           ,str(action),\"/\",str(level),\"/\",str(action),\"_\",str(level),\"/\",str(action),\"_\",str(level),i+20,\"/video/\"\n",
    "           ,str(action),\"_\",str(level),i+20,\".avi --render_pose 2 --keypoint_scale 0;\"]\n",
    "    sys.stdout.write(''.join(map(str, all)))  \n",
    "    #print(''.join(map(str, all)))\n",
    "    i += 1\n",
    "    \n",
    "    #--render_pose 2 --keypoint_scale 0"
   ]
  },
  {
   "cell_type": "code",
   "execution_count": null,
   "metadata": {},
   "outputs": [],
   "source": []
  }
 ],
 "metadata": {
  "kernelspec": {
   "display_name": "Python 3 (ipykernel)",
   "language": "python",
   "name": "python3"
  },
  "language_info": {
   "codemirror_mode": {
    "name": "ipython",
    "version": 3
   },
   "file_extension": ".py",
   "mimetype": "text/x-python",
   "name": "python",
   "nbconvert_exporter": "python",
   "pygments_lexer": "ipython3",
   "version": "3.10.6"
  }
 },
 "nbformat": 4,
 "nbformat_minor": 4
}
