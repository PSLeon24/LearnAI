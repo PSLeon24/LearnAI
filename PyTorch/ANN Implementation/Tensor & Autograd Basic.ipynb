{
 "cells": [
  {
   "cell_type": "markdown",
   "id": "a29e2da1",
   "metadata": {},
   "source": [
    "## Tensor and Autograd\n",
    "\n",
    "### Rank(Dimension)\n",
    "- Rank == 0 : Scalar, Example: 1 / The shape is [] \n",
    "- Rank == 1 : Vector, Example: [1, 2, 3] / The shape is [3]\n",
    "- Rank == 2 : Matrix, Example: [[1, 2, 3]] / The shape is [1, 3]\n",
    "- Rank == 3 : Tensor, Example: [[[1, 2, 3]]] / The shape is [1, 1, 3]\n",
    "- Rank >= 3 : Rank N Tensor"
   ]
  },
  {
   "cell_type": "markdown",
   "id": "cf32fa6f",
   "metadata": {},
   "source": [
    "## 1. Create first tensor"
   ]
  },
  {
   "cell_type": "code",
   "execution_count": 2,
   "id": "b3fc47b3",
   "metadata": {},
   "outputs": [],
   "source": [
    "import torch"
   ]
  },
  {
   "cell_type": "code",
   "execution_count": 4,
   "id": "d840259e",
   "metadata": {},
   "outputs": [
    {
     "name": "stdout",
     "output_type": "stream",
     "text": [
      "tensor([[1, 2, 3],\n",
      "        [4, 5, 6],\n",
      "        [7, 8, 9]])\n"
     ]
    }
   ],
   "source": [
    "x = torch.tensor([[1, 2, 3],\n",
    "                  [4, 5, 6],\n",
    "                  [7, 8, 9]])\n",
    "print(x)"
   ]
  },
  {
   "cell_type": "code",
   "execution_count": 11,
   "id": "c27358df",
   "metadata": {},
   "outputs": [
    {
     "name": "stdout",
     "output_type": "stream",
     "text": [
      "size is torch.Size([3, 3])\n",
      "shape is torch.Size([3, 3])\n",
      "rank(dimension) is 2\n"
     ]
    }
   ],
   "source": [
    "print(f'size is {x.size()}')\n",
    "print(f'shape is {x.shape}')\n",
    "print(f'rank(dimension) is {x.ndimension()}')"
   ]
  },
  {
   "cell_type": "markdown",
   "id": "a08aaa81",
   "metadata": {},
   "source": [
    "### 1_1. 차원(Rank) 늘리기 & 줄이기\n",
    "- torch.unsqueeze(x, 0): 텐서 x의 첫 번째(0번째) 자리에 1이라는 차원값을 추가해서 랭크를 늘림\n",
    "- torch.squeeze(x): 텐서의 랭크 중 크기가 1인 랭크를 삭제하여 랭크를 줄임"
   ]
  },
  {
   "cell_type": "code",
   "execution_count": 12,
   "id": "29e1ebf0",
   "metadata": {},
   "outputs": [
    {
     "name": "stdout",
     "output_type": "stream",
     "text": [
      "tensor([[[1, 2, 3],\n",
      "         [4, 5, 6],\n",
      "         [7, 8, 9]]])\n",
      "size is torch.Size([1, 3, 3])\n",
      "shape is torch.Size([1, 3, 3])\n",
      "rank(dimension) is 3\n"
     ]
    }
   ],
   "source": [
    "x = torch.unsqueeze(x, 0)\n",
    "print(x)\n",
    "print(f'size is {x.size()}')\n",
    "print(f'shape is {x.shape}')\n",
    "print(f'rank(dimension) is {x.ndimension()}')"
   ]
  },
  {
   "cell_type": "code",
   "execution_count": 13,
   "id": "44535794",
   "metadata": {},
   "outputs": [
    {
     "name": "stdout",
     "output_type": "stream",
     "text": [
      "tensor([[1, 2, 3],\n",
      "        [4, 5, 6],\n",
      "        [7, 8, 9]])\n",
      "size is torch.Size([3, 3])\n",
      "shape is torch.Size([3, 3])\n",
      "rank(dimension) is 2\n"
     ]
    }
   ],
   "source": [
    "x = torch.squeeze(x)\n",
    "print(x)\n",
    "print(f'size is {x.size()}')\n",
    "print(f'shape is {x.shape}')\n",
    "print(f'rank(dimension) is {x.ndimension()}')"
   ]
  },
  {
   "cell_type": "markdown",
   "id": "6c851b91",
   "metadata": {},
   "source": [
    "### 1_2. View() function"
   ]
  },
  {
   "cell_type": "code",
   "execution_count": 14,
   "id": "e26c2b48",
   "metadata": {},
   "outputs": [
    {
     "name": "stdout",
     "output_type": "stream",
     "text": [
      "shape '[2, 4]' is invalid for input of size 9\n"
     ]
    }
   ],
   "source": [
    "try:\n",
    "    x = x.view(2, 4)\n",
    "except Exception as e:\n",
    "    print(e)"
   ]
  },
  {
   "cell_type": "markdown",
   "id": "8ae2e3ef",
   "metadata": {},
   "source": [
    "현재 3x3 shape를 가진 tensor로, 총 원소의 개수인데 2x4 shape로 바꿀 수는 없음"
   ]
  },
  {
   "cell_type": "code",
   "execution_count": 18,
   "id": "625ecc99",
   "metadata": {},
   "outputs": [
    {
     "name": "stdout",
     "output_type": "stream",
     "text": [
      "tensor([1, 2, 3, 4, 5, 6, 7, 8, 9])\n",
      "size is torch.Size([9])\n",
      "shape is torch.Size([9])\n",
      "rank(dimension) is 1\n"
     ]
    }
   ],
   "source": [
    "try:\n",
    "    x = x.view(9)\n",
    "    print(x)\n",
    "    print(f'size is {x.size()}')\n",
    "    print(f'shape is {x.shape}')\n",
    "    print(f'rank(dimension) is {x.ndimension()}')\n",
    "except Exception as e:\n",
    "    print(e)"
   ]
  },
  {
   "cell_type": "markdown",
   "id": "fcecaea8",
   "metadata": {},
   "source": [
    "### 1_3. Calculation & Matrix Multiplication using Tensor\n",
    "- torch.randn(x_shape, y_shape, data_type): 정규분포(normal distribution)에서 무작위로 값을 뽑아 텐서를 생성하는 함수"
   ]
  },
  {
   "cell_type": "code",
   "execution_count": 21,
   "id": "31079494",
   "metadata": {},
   "outputs": [
    {
     "name": "stdout",
     "output_type": "stream",
     "text": [
      "w size is torch.Size([5, 3])\n",
      "x size is torch.Size([3, 2])\n",
      "w: tensor([[ 0.1997,  1.2069,  1.2695],\n",
      "        [-0.7289,  1.2815,  0.3102],\n",
      "        [ 1.1469, -0.4120,  1.2758],\n",
      "        [ 0.4100, -0.2820, -0.6695],\n",
      "        [ 0.1483, -0.0654, -2.1385]])\n",
      "x: tensor([[1., 2.],\n",
      "        [3., 4.],\n",
      "        [5., 6.]])\n"
     ]
    }
   ],
   "source": [
    "w = torch.randn(5, 3, dtype=torch.float) # 5 x 3 matrix\n",
    "x = torch.tensor([[1.0, 2.0],\n",
    "                  [3.0, 4.0],\n",
    "                  [5.0, 6.0]]) # 3 x 2 matrix\n",
    "print(f'w size is {w.shape}')\n",
    "print(f'x size is {x.shape}')\n",
    "print(f'w: {w}')\n",
    "print(f'x: {x}')"
   ]
  },
  {
   "cell_type": "code",
   "execution_count": 22,
   "id": "f987b221",
   "metadata": {},
   "outputs": [
    {
     "name": "stdout",
     "output_type": "stream",
     "text": [
      "b size is torch.Size([5, 2])\n",
      "b: tensor([[-1.4106,  1.3719],\n",
      "        [-0.8245,  2.3801],\n",
      "        [-1.0588,  1.6728],\n",
      "        [ 0.7171, -0.8105],\n",
      "        [ 0.9597,  0.3023]])\n"
     ]
    }
   ],
   "source": [
    "b = torch.randn(5, 2, dtype=torch.float)\n",
    "print(f'b size is {b.shape}')\n",
    "print(f'b: {b}')"
   ]
  },
  {
   "cell_type": "markdown",
   "id": "05174131",
   "metadata": {},
   "source": [
    "#### Matrix Multiplication == torch.mm()"
   ]
  },
  {
   "cell_type": "code",
   "execution_count": 23,
   "id": "e457e6d4",
   "metadata": {},
   "outputs": [
    {
     "name": "stdout",
     "output_type": "stream",
     "text": [
      "wx size is torch.Size([5, 2])\n",
      "wx: tensor([[ 10.1677,  12.8437],\n",
      "        [  4.6664,   5.5292],\n",
      "        [  6.2898,   8.3005],\n",
      "        [ -3.7833,  -4.3247],\n",
      "        [-10.7405, -12.7961]])\n"
     ]
    }
   ],
   "source": [
    "wx = torch.mm(w, x)\n",
    "print(f'wx size is {wx.shape}') # (5 x 3) * (3 x 2) = (5 x 2) matrix\n",
    "print(f'wx: {wx}')"
   ]
  },
  {
   "cell_type": "markdown",
   "id": "8a92d6ae",
   "metadata": {},
   "source": [
    "#### Add Calculation"
   ]
  },
  {
   "cell_type": "code",
   "execution_count": 24,
   "id": "ba10399b",
   "metadata": {},
   "outputs": [
    {
     "name": "stdout",
     "output_type": "stream",
     "text": [
      "result size is torch.Size([5, 2])\n",
      "result: tensor([[  8.7570,  14.2156],\n",
      "        [  3.8420,   7.9093],\n",
      "        [  5.2310,   9.9733],\n",
      "        [ -3.0661,  -5.1352],\n",
      "        [ -9.7808, -12.4938]])\n"
     ]
    }
   ],
   "source": [
    "result = wx + b\n",
    "print(f'result size is {result.shape}')\n",
    "print(f'result: {result}')"
   ]
  },
  {
   "cell_type": "markdown",
   "id": "3186e047",
   "metadata": {},
   "source": [
    "## 2. Autograd\n",
    "#### Background knowledge\n",
    "- 오차(loss): 모델이 예측한 값과 실제값(ground truth)와의 차이(거리)의 평균. 즉, 오차가 작을수록 성능이 좋은 모델\n",
    "- 경사하강법(gradient descent): 오차를 수학 함수로 표현한 후 편미분하여 함수의 기울기(gradient)를 구해 오차의 최솟값이 있는 방향을 찾아내는 알고리즘으로써, 가장 유명하고 많이 쓰임\n",
    "\n",
    "#### Why does it use?\n",
    "- 복잡한 인공 신경망 모델에서 일일이 NumPy를 활용해서 복잡한 계산을 여러 번하는 것이 번거롭기 때문에 미분 계산을 자동화해주는 autograd를 사용"
   ]
  },
  {
   "cell_type": "code",
   "execution_count": 25,
   "id": "0d163745",
   "metadata": {},
   "outputs": [],
   "source": [
    "w = torch.tensor(1.0, requires_grad=True)"
   ]
  },
  {
   "cell_type": "code",
   "execution_count": 26,
   "id": "38d8c89b",
   "metadata": {},
   "outputs": [],
   "source": [
    "a = w*3"
   ]
  },
  {
   "cell_type": "code",
   "execution_count": 29,
   "id": "da7ddc3d",
   "metadata": {},
   "outputs": [],
   "source": [
    "l = a**2 # 미분하기 위해서는 chain rule을 이용하여 a와 w를 차례대로 미분해야 함 - 이를 위해서 backward() 함수 사용"
   ]
  },
  {
   "cell_type": "markdown",
   "id": "50ecc311",
   "metadata": {},
   "source": [
    "#### l = a^2 = (3w)^2 = 9w^2"
   ]
  },
  {
   "cell_type": "code",
   "execution_count": 30,
   "id": "fadefbda",
   "metadata": {},
   "outputs": [
    {
     "name": "stdout",
     "output_type": "stream",
     "text": [
      "l을 w로 미분한 값은 18.0\n"
     ]
    }
   ],
   "source": [
    "l.backward()\n",
    "print(f'l을 w로 미분한 값은 {w.grad}')"
   ]
  },
  {
   "cell_type": "code",
   "execution_count": null,
   "id": "94374396",
   "metadata": {},
   "outputs": [],
   "source": []
  }
 ],
 "metadata": {
  "kernelspec": {
   "display_name": "PyTorch",
   "language": "python",
   "name": "pytorch_env"
  },
  "language_info": {
   "codemirror_mode": {
    "name": "ipython",
    "version": 3
   },
   "file_extension": ".py",
   "mimetype": "text/x-python",
   "name": "python",
   "nbconvert_exporter": "python",
   "pygments_lexer": "ipython3",
   "version": "3.10.11"
  }
 },
 "nbformat": 4,
 "nbformat_minor": 5
}
