{
  "nbformat": 4,
  "nbformat_minor": 0,
  "metadata": {
    "colab": {
      "provenance": [],
      "authorship_tag": "ABX9TyPbYVGdpXssT8lyzu8BaNxz",
      "include_colab_link": true
    },
    "kernelspec": {
      "name": "python3",
      "display_name": "Python 3"
    },
    "language_info": {
      "name": "python"
    }
  },
  "cells": [
    {
      "cell_type": "markdown",
      "metadata": {
        "id": "view-in-github",
        "colab_type": "text"
      },
      "source": [
        "<a href=\"https://colab.research.google.com/github/PSLeon24/LearnAI/blob/main/Predict_Diabetes.ipynb\" target=\"_parent\"><img src=\"https://colab.research.google.com/assets/colab-badge.svg\" alt=\"Open In Colab\"/></a>"
      ]
    },
    {
      "cell_type": "markdown",
      "source": [
        "<h1>목표: 당뇨병 환자의 1년 후 병의 진전된 정도를 예측하는 모델 만들기</h1>"
      ],
      "metadata": {
        "id": "h1t30AzeraKd"
      }
    },
    {
      "cell_type": "markdown",
      "source": [
        "<h2>문제 해결을 위해 당뇨병 환자의 데이터 준비하기<h2>"
      ],
      "metadata": {
        "id": "iNz58EBFunet"
      }
    },
    {
      "cell_type": "code",
      "execution_count": null,
      "metadata": {
        "id": "715xQDxlrUQX"
      },
      "outputs": [],
      "source": [
        "# 1. load_diabetes() 함수로 당뇨병 데이터 준비하기\n",
        "from sklearn.datasets import load_diabetes\n",
        "diabetes = load_diabetes()"
      ]
    },
    {
      "cell_type": "code",
      "source": [
        "type(diabetes) # diabetes 변수에 저장된 값의 자료형은 파이썬 딕셔너리(dictionary)와 유사한 Bunch 클래스이다."
      ],
      "metadata": {
        "colab": {
          "base_uri": "https://localhost:8080/"
        },
        "id": "M8peBpKLrplw",
        "outputId": "4246d66b-abac-4b51-9617-1268fa18e23d"
      },
      "execution_count": null,
      "outputs": [
        {
          "output_type": "execute_result",
          "data": {
            "text/plain": [
              "sklearn.utils._bunch.Bunch"
            ]
          },
          "metadata": {},
          "execution_count": 4
        }
      ]
    },
    {
      "cell_type": "code",
      "source": [
        "# 2. 입력과 타깃 데이터의 크기 확인하기\n",
        "# diabetes의 속성 중 data 속성과 target 속성에는 입력과 타깃 데이터가 넘파이 배열로 저장되어 있는데 shape 속성으로 확인할 수 있다.\n",
        "print(f'Data Shape: {diabetes.data.shape}')\n",
        "print(f'Target Shape: {diabetes.target.shape}')"
      ],
      "metadata": {
        "colab": {
          "base_uri": "https://localhost:8080/"
        },
        "id": "-vkmrdIUrq1Z",
        "outputId": "f5bd91f0-5b95-4045-ffe6-b02e11a80e30"
      },
      "execution_count": null,
      "outputs": [
        {
          "output_type": "stream",
          "name": "stdout",
          "text": [
            "Data Shape: (442, 10)\n",
            "Target Shape: (442,)\n"
          ]
        }
      ]
    },
    {
      "cell_type": "markdown",
      "source": [
        "data는 442x10 크기의 2차원 배열이고 tartget은 442개의 요소를 가진 1차원 배열임을 확인할 수 있다.<br>\n",
        "이때, diabetes.data에서 행은 샘플(sample)이고, 열은 샘플의 특성(feature)이다.<br>\n",
        "샘플: 당뇨병 환자에 대한 특성으로 이루어진 데이터 1세트<br>\n",
        "특성: 당뇨병 데이터의 여러 특징들(ex: 환자의 혈압, 혈당, 몸무게, 키) = 독립 변수(independent variable)\n",
        "<br>\n",
        "즉, 특성(특징)들의 수치를 모아 1세트로 만들면 1개의 샘플이 된다."
      ],
      "metadata": {
        "id": "gcVhoJWzsbek"
      }
    },
    {
      "cell_type": "code",
      "source": [
        "diabetes.data[:5] # diabetes.data에 저장된 입력 데이터 중 앞부분의 샘플 5개만 출력"
      ],
      "metadata": {
        "colab": {
          "base_uri": "https://localhost:8080/"
        },
        "id": "33ZhccywsJRN",
        "outputId": "feb44331-5db3-4af2-b473-8cb3167ab65f"
      },
      "execution_count": null,
      "outputs": [
        {
          "output_type": "execute_result",
          "data": {
            "text/plain": [
              "array([[ 0.03807591,  0.05068012,  0.06169621,  0.02187239, -0.0442235 ,\n",
              "        -0.03482076, -0.04340085, -0.00259226,  0.01990749, -0.01764613],\n",
              "       [-0.00188202, -0.04464164, -0.05147406, -0.02632753, -0.00844872,\n",
              "        -0.01916334,  0.07441156, -0.03949338, -0.06833155, -0.09220405],\n",
              "       [ 0.08529891,  0.05068012,  0.04445121, -0.00567042, -0.04559945,\n",
              "        -0.03419447, -0.03235593, -0.00259226,  0.00286131, -0.02593034],\n",
              "       [-0.08906294, -0.04464164, -0.01159501, -0.03665608,  0.01219057,\n",
              "         0.02499059, -0.03603757,  0.03430886,  0.02268774, -0.00936191],\n",
              "       [ 0.00538306, -0.04464164, -0.03638469,  0.02187239,  0.00393485,\n",
              "         0.01559614,  0.00814208, -0.00259226, -0.03198764, -0.04664087]])"
            ]
          },
          "metadata": {},
          "execution_count": 13
        }
      ]
    },
    {
      "cell_type": "code",
      "source": [
        "diabetes.target[:5] # diabetes.target에 저장된 데이터 중 앞부분의 샘플 5개만 출력\n",
        "# 타깃 데이터는 10개의 요소로 구성된 샘플 1개에 대응됨"
      ],
      "metadata": {
        "colab": {
          "base_uri": "https://localhost:8080/"
        },
        "id": "tZ3blAlOtXSQ",
        "outputId": "e06df4d2-0764-4990-e694-f0926dd00f59"
      },
      "execution_count": null,
      "outputs": [
        {
          "output_type": "execute_result",
          "data": {
            "text/plain": [
              "array([151.,  75., 141., 206., 135.])"
            ]
          },
          "metadata": {},
          "execution_count": 15
        }
      ]
    },
    {
      "cell_type": "markdown",
      "source": [
        "이 예제를 풀기 위해 data의 입력 데이터와와 target 데이터의 수치를 해석하는 것은 전문가인 의사의 영역이므로 이 둘 사이의 규칙(모델)만 찾으면 된다.<br>\n",
        "다만, 실전에서는 데이터의 의미를 아는 것이 매우 중요할 수 있으므로 전문가의 도움을 받는것이 좋다."
      ],
      "metadata": {
        "id": "pyCITCEJuAaz"
      }
    },
    {
      "cell_type": "markdown",
      "source": [
        "<h2>당뇨병 환자 데이터 시각화하기</h2>"
      ],
      "metadata": {
        "id": "cEfN09t5ugBp"
      }
    },
    {
      "cell_type": "markdown",
      "source": [
        "<h3>1. 맷플롯립의 scatter() 함수로 산점도 그리기</h3>"
      ],
      "metadata": {
        "id": "F0DHQ32FvfBG"
      }
    },
    {
      "cell_type": "code",
      "source": [
        "import matplotlib.pyplot as plt\n",
        "plt.scatter(diabetes.data[:, 2], diabetes.target) # diabetes.data의 열(특성) 중 3번째(2)와 타깃 데이터로 산점도 그리기\n",
        "# 그래프의 x축은 diabetes의 세 번째 특성, y축은 diabetes.target\n",
        "plt.show()"
      ],
      "metadata": {
        "colab": {
          "base_uri": "https://localhost:8080/",
          "height": 430
        },
        "id": "RlJ-sWSitp9c",
        "outputId": "a43b3402-01d9-4dd0-c2e4-e63b93848609"
      },
      "execution_count": null,
      "outputs": [
        {
          "output_type": "display_data",
          "data": {
            "text/plain": [
              "<Figure size 640x480 with 1 Axes>"
            ],
            "image/png": "[encoded data removed]"
          },
          "metadata": {}
        }
      ]
    },
    {
      "cell_type": "markdown",
      "source": [
        "위 그래프를 보면, 세 번째 특성(입력 데이터)과 타깃 데이터 사이에 정비례 관계가 있음을 확인할 수 있다."
      ],
      "metadata": {
        "id": "uhEtZqqnvWLx"
      }
    },
    {
      "cell_type": "markdown",
      "source": [
        "<h3>2. 훈련 데이터 준비하기</h3>"
      ],
      "metadata": {
        "id": "YrWw3AALvkFU"
      }
    },
    {
      "cell_type": "code",
      "source": [
        "x = diabetes.data[:, 2]\n",
        "y = diabetes.target"
      ],
      "metadata": {
        "id": "uhQ9jmKouxlo"
      },
      "execution_count": null,
      "outputs": []
    },
    {
      "cell_type": "code",
      "source": [],
      "metadata": {
        "id": "iuEN36mSvo4M"
      },
      "execution_count": null,
      "outputs": []
    }
  ]
}